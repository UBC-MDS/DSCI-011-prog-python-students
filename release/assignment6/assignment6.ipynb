{
 "cells": [
  {
   "cell_type": "markdown",
   "metadata": {
    "deletable": false,
    "editable": false,
    "nbgrader": {
     "cell_type": "markdown",
     "checksum": "37d09b4599bab1d95516b9e53c771738",
     "grade": false,
     "grade_id": "cell-fee1ef1daa0383a9",
     "locked": true,
     "schema_version": 3,
     "solution": false,
     "task": false
    }
   },
   "source": [
    "\n",
    "\n",
    "\n",
    "\n",
    "\n",
    "\n",
    "\n",
    "\n",
    "\n",
    "\n",
    "\n",
    "\n",
    "\n",
    "\n",
    "\n",
    "\n",
    "\n",
    "\n",
    "\n",
    "\n",
    "\n",
    "\n",
    "\n",
    "\n",
    "\n",
    "\n",
    "\n",
    "\n",
    "\n",
    "\n",
    "\n",
    "\n",
    "\n",
    "\n",
    "\n",
    "\n",
    "\n",
    "\n",
    "\n",
    "\n",
    "\n",
    "\n",
    "\n",
    "\n",
    "\n",
    "\n",
    "\n",
    "\n",
    "\n",
    "\n",
    "\n",
    "\n",
    "\n",
    "\n",
    "\n",
    "\n",
    "\n",
    "\n",
    "\n",
    "\n",
    "\n",
    "\n",
    "\n",
    "\n",
    "\n",
    "\n",
    "\n",
    "\n",
    "\n",
    "\n",
    "\n",
    "\n",
    "\n",
    "\n",
    "\n",
    "\n",
    "\n",
    "\n",
    "\n",
    "\n",
    "\n",
    "\n",
    "\n",
    "\n",
    "\n",
    "\n",
    "\n",
    "\n",
    "\n",
    "\n",
    "\n",
    "\n",
    "\n",
    "\n",
    "\n",
    "\n",
    "\n",
    "\n",
    "\n",
    "\n",
    "\n",
    "\n",
    "\n",
    "\n",
    "\n",
    "\n",
    "\n",
    "\n",
    "\n",
    "\n",
    "\n",
    "\n",
    "\n",
    "\n",
    "\n",
    "\n",
    "\n",
    "\n",
    "\n",
    "# MCL-DSCI-011 Programming in Python for Data Science \n",
    "\n",
    "# Assignment 6: Functions Fundamentals and Best Practices"
   ]
  },
  {
   "cell_type": "markdown",
   "metadata": {},
   "source": [
    "You can't learn technical subjects without hands-on practice. The assignments are an important part of the course. To submit this assignment you will need to make sure that you save your Jupyter notebook. \n",
    "\n",
    "Below are the links of 2 videos that explain:\n",
    "\n",
    "1. [How to save your Jupyter notebook](https://youtu.be/0aoLgBoAUSA) and,       \n",
    "2. [How to answer a question in a Jupyter notebook assignment](https://youtu.be/7j0WKhI3W4s)."
   ]
  },
  {
   "cell_type": "markdown",
   "metadata": {
    "deletable": false,
    "editable": false,
    "nbgrader": {
     "cell_type": "markdown",
     "checksum": "84b91df3374940d791a59cd0ea90daa8",
     "grade": false,
     "grade_id": "cell-c9541fcf41450b3c",
     "locked": true,
     "schema_version": 3,
     "solution": false,
     "task": false
    }
   },
   "source": [
    "### Assignment Learning Goals:\n",
    "\n",
    "By the end of the module, students are expected to:\n",
    "\n",
    "- Evaluate the readability, complexity and performance of a function.\n",
    "- Write docstrings for functions following the NumPy/SciPy format.\n",
    "- Write comments within a function to improve readability.\n",
    "- Write and design functions with default arguments.\n",
    "- Explain the importance of scoping and environments in Python as they relate to functions.\n",
    "- Formulate test cases to prove a function design specification.\n",
    "- Use `assert` statements to formulate a test case to prove a function design specification.\n",
    "- Use test-driven development principles to define a function that accepts parameters, returns values and passes all tests.\n",
    "- Handle errors gracefully via exception handling.\n",
    "\n",
    "This assignment covers [Module 6](https://prog-learn.mds.ubc.ca/en/module6) of the online course. You should complete this module before attempting this assignment."
   ]
  },
  {
   "cell_type": "markdown",
   "metadata": {
    "deletable": false,
    "editable": false,
    "nbgrader": {
     "cell_type": "markdown",
     "checksum": "eb8ff7b5e795cf7a8e39bd3569da716f",
     "grade": false,
     "grade_id": "cell-5d70c4839f0aca16",
     "locked": true,
     "schema_version": 3,
     "solution": false,
     "task": false
    }
   },
   "source": [
    "Any place you see `...`, you must fill in the function, variable, or data to complete the code. Substitute the `None` with your completed code and answers then proceed to run the cell!"
   ]
  },
  {
   "cell_type": "markdown",
   "metadata": {
    "deletable": false,
    "editable": false,
    "nbgrader": {
     "cell_type": "markdown",
     "checksum": "45eac5b0c8e7aa7506aac1a4d5a59fda",
     "grade": false,
     "grade_id": "cell-d8528e8df1e0703b",
     "locked": true,
     "schema_version": 3,
     "solution": false,
     "task": false
    }
   },
   "source": [
    "Note that some of the questions in this assignment will have hidden tests. This means that no feedback will be given as to the correctness of your solution. It will be left up to you to decide if your answer is sufficiently correct."
   ]
  },
  {
   "cell_type": "code",
   "execution_count": null,
   "metadata": {
    "deletable": false,
    "editable": false,
    "nbgrader": {
     "cell_type": "code",
     "checksum": "7a4c004b755249fb2acf6d88e3b02327",
     "grade": false,
     "grade_id": "cell-be164ba76be93f71",
     "locked": true,
     "schema_version": 3,
     "solution": false,
     "task": false
    }
   },
   "outputs": [],
   "source": [
    "# Import libraries needed for this lab\n",
    "import pandas as pd\n",
    "import random\n",
    "import test_assignment6 as t\n",
    "import altair as alt\n",
    "import string\n",
    "import inspect"
   ]
  },
  {
   "cell_type": "markdown",
   "metadata": {
    "deletable": false,
    "editable": false,
    "nbgrader": {
     "cell_type": "markdown",
     "checksum": "6cef7d60b757412e42b008d60054e13c",
     "grade": false,
     "grade_id": "cell-9a138de7b796c038",
     "locked": true,
     "schema_version": 3,
     "solution": false,
     "task": false
    }
   },
   "source": [
    "## 1.  Writing functions"
   ]
  },
  {
   "cell_type": "markdown",
   "metadata": {
    "deletable": false,
    "editable": false,
    "nbgrader": {
     "cell_type": "markdown",
     "checksum": "ca4f09233620edf998db9896be375fef",
     "grade": false,
     "grade_id": "cell-3c84ffd0a0c4240b",
     "locked": true,
     "schema_version": 3,
     "solution": false,
     "task": false
    }
   },
   "source": [
    "Here we have the `astronauts.csv` data we have used in previous assignments."
   ]
  },
  {
   "cell_type": "code",
   "execution_count": null,
   "metadata": {
    "deletable": false,
    "editable": false,
    "nbgrader": {
     "cell_type": "code",
     "checksum": "848b33db51874a64d4531170eedd03a0",
     "grade": false,
     "grade_id": "cell-a66613098ff3ffb7",
     "locked": true,
     "schema_version": 3,
     "solution": false,
     "task": false
    }
   },
   "outputs": [],
   "source": [
    "data = pd.read_csv('data/astronauts.csv')\n",
    "data.head()"
   ]
  },
  {
   "cell_type": "markdown",
   "metadata": {
    "deletable": false,
    "editable": false,
    "nbgrader": {
     "cell_type": "markdown",
     "checksum": "9678e0c7e0607cbbe46c93a89571b9c1",
     "grade": false,
     "grade_id": "cell-dd8ee39974b2dbba",
     "locked": true,
     "schema_version": 3,
     "solution": false,
     "task": false
    }
   },
   "source": [
    "We have some code that randomly samples and selects a given number of rows from each of the specified column's groups. \n",
    "In this case it is randomly selecting 3 astronauts from each possible `Status` (`Active`, `Deceased`, `Management`, `Retired`)"
   ]
  },
  {
   "cell_type": "code",
   "execution_count": null,
   "metadata": {
    "deletable": false,
    "editable": false,
    "nbgrader": {
     "cell_type": "code",
     "checksum": "03afa7113393cddd6946c019e8fc4e39",
     "grade": false,
     "grade_id": "cell-98c57f0871e72a06",
     "locked": true,
     "schema_version": 3,
     "solution": false,
     "task": false
    }
   },
   "outputs": [],
   "source": [
    "data = pd.read_csv('data/astronauts.csv')\n",
    "df_grouped = data.groupby('Status')\n",
    "\n",
    "sampled_df = None\n",
    "\n",
    "for group, rows in df_grouped: \n",
    "    group_sampling =  df_grouped.get_group(group).sample(2)\n",
    "    sampled_df = pd.concat([sampled_df, group_sampling])\n",
    "    \n",
    "sampled_df"
   ]
  },
  {
   "cell_type": "markdown",
   "metadata": {
    "deletable": false,
    "editable": false,
    "nbgrader": {
     "cell_type": "markdown",
     "checksum": "8356378f69b86552bf3f51779de47472",
     "grade": false,
     "grade_id": "cell-c33bad1afbd00ae7",
     "locked": true,
     "schema_version": 3,
     "solution": false,
     "task": false
    }
   },
   "source": [
    "**Question 1(a)** <br> {points: 3} \n",
    "\n",
    "Use the code above to write a function named `sample_dataframe` that randomly samples from any dataframe, N observations from each specified group in a dataframe. \n",
    "The function should accept the following arguments:\n",
    "- The dataframe (`data`)\n",
    "- The name of the grouping column (`grouping_col`) \n",
    "\n",
    "This function should have a default argument of 1 for N.\n",
    "\n",
    "We have provided you code that executes your function using the `astronauts.csv` dataframe, the grouping column `Group` and a value of 1 for the number of observations to sample. \n",
    "The output of this is saved in an object named `astro_grp_samp`.\n",
    "\n",
    "_**DISCLAIMER:** We understand that one of the limitations of the following dataset is that it reflects binary sex categories._\n",
    "\n",
    "_Notes:_\n",
    "- *See this link on[`.sample()`](https://pandas.pydata.org/pandas-docs/stable/reference/api/pandas.DataFrame.sample.html) to learn more about how it samples a dataframe*"
   ]
  },
  {
   "cell_type": "code",
   "execution_count": null,
   "metadata": {
    "deletable": false,
    "nbgrader": {
     "cell_type": "code",
     "checksum": "da6bc7eec4d8b4741089c9c9b8171627",
     "grade": false,
     "grade_id": "cell-37c7c24f97ad515f",
     "locked": false,
     "schema_version": 3,
     "solution": true,
     "task": false
    }
   },
   "outputs": [],
   "source": [
    "# your code here\n",
    "raise NotImplementedError # No Answer - remove if you provide an answer\n",
    "\n",
    "astro_grp_samp = sample_dataframe(data, 'Group')\n",
    "astro_grp_samp"
   ]
  },
  {
   "cell_type": "code",
   "execution_count": null,
   "metadata": {
    "deletable": false,
    "editable": false,
    "nbgrader": {
     "cell_type": "code",
     "checksum": "216e6edc733a2a0b3934cb13a07b64a3",
     "grade": true,
     "grade_id": "cell-28976a70a7390c75",
     "locked": true,
     "points": 1,
     "schema_version": 3,
     "solution": false,
     "task": false
    }
   },
   "outputs": [],
   "source": [
    "t.test_1a(sample_dataframe)"
   ]
  },
  {
   "cell_type": "markdown",
   "metadata": {
    "deletable": false,
    "editable": false,
    "nbgrader": {
     "cell_type": "markdown",
     "checksum": "6a21c81f7579c6bf79bc66b06faefbb1",
     "grade": false,
     "grade_id": "cell-e51b1fcfda6bbddc",
     "locked": true,
     "schema_version": 3,
     "solution": false,
     "task": false
    }
   },
   "source": [
    "**Question 1(b)** <br> {points: 3} \n",
    "\n",
    "Write a function named `df_filterer` that filters rows matching an exact value in the column of interest, selects specific columns and returns a dataframe.  \n",
    "\n",
    "The function should accept the following arguments:\n",
    "- The dataframe (`data`)\n",
    "- The name of the column of interest (`interest_column`)\n",
    "- The value to filter for. (`value`)\n",
    "- The desired columns to select (input type should be a list) (`keep`) \n",
    "\n",
    "Make sure that your function is returning the transformed dataframe. \n"
   ]
  },
  {
   "cell_type": "code",
   "execution_count": null,
   "metadata": {
    "deletable": false,
    "nbgrader": {
     "cell_type": "code",
     "checksum": "36f2336beaf6a4e54a37bd975ea2b5d5",
     "grade": false,
     "grade_id": "cell-9d0ad852cc7fcf6a",
     "locked": false,
     "schema_version": 3,
     "solution": true,
     "task": false
    }
   },
   "outputs": [],
   "source": [
    "# your code here\n",
    "raise NotImplementedError # No Answer - remove if you provide an answer\n",
    "\n",
    "princeton_ast = df_filterer(data,'Alma Mater','University of Kansas', ['Name'])\n",
    "princeton_ast"
   ]
  },
  {
   "cell_type": "code",
   "execution_count": null,
   "metadata": {
    "deletable": false,
    "editable": false,
    "nbgrader": {
     "cell_type": "code",
     "checksum": "d8579e0ca3009aa8dd9fd52ef50f643e",
     "grade": true,
     "grade_id": "cell-a18332d5d26418a7",
     "locked": true,
     "points": 1,
     "schema_version": 3,
     "solution": false,
     "task": false
    }
   },
   "outputs": [],
   "source": [
    "t.test_1b(df_filterer,data)"
   ]
  },
  {
   "cell_type": "markdown",
   "metadata": {
    "deletable": false,
    "editable": false,
    "nbgrader": {
     "cell_type": "markdown",
     "checksum": "aca2134e5c02d33e62f723f4b7ebf0d9",
     "grade": false,
     "grade_id": "cell-0ed3fe86778dc80c",
     "locked": true,
     "schema_version": 3,
     "solution": false,
     "task": false
    }
   },
   "source": [
    "## 2.  Writing Docstrings"
   ]
  },
  {
   "cell_type": "markdown",
   "metadata": {
    "deletable": false,
    "editable": false,
    "nbgrader": {
     "cell_type": "markdown",
     "checksum": "6d11a80fdc16e56848f145899e661b35",
     "grade": false,
     "grade_id": "cell-82d8c348245efdd8",
     "locked": true,
     "schema_version": 3,
     "solution": false,
     "task": false
    }
   },
   "source": [
    "**Question 2(a)** <br> {points: 1} \n",
    "\n",
    "Copy/paste your function from **Question 1(a)**, and then improve it by adding a docstring. "
   ]
  },
  {
   "cell_type": "code",
   "execution_count": null,
   "metadata": {
    "deletable": false,
    "nbgrader": {
     "cell_type": "code",
     "checksum": "58f2b56c2683204ed47941392f774d7c",
     "grade": false,
     "grade_id": "cell-2f196d85895b30db",
     "locked": false,
     "schema_version": 3,
     "solution": true,
     "task": false
    }
   },
   "outputs": [],
   "source": [
    "# your code here\n",
    "raise NotImplementedError # No Answer - remove if you provide an answer"
   ]
  },
  {
   "cell_type": "code",
   "execution_count": null,
   "metadata": {
    "deletable": false,
    "editable": false,
    "nbgrader": {
     "cell_type": "code",
     "checksum": "faf027af36280c231f379ef10ca3d806",
     "grade": true,
     "grade_id": "cell-6d80b5a96356df64",
     "locked": true,
     "points": 1,
     "schema_version": 3,
     "solution": false,
     "task": false
    }
   },
   "outputs": [],
   "source": [
    "t.test_2a(sample_dataframe)"
   ]
  },
  {
   "cell_type": "markdown",
   "metadata": {
    "deletable": false,
    "editable": false,
    "nbgrader": {
     "cell_type": "markdown",
     "checksum": "9481ff0e0e0d6df5a58b7504b645cd86",
     "grade": false,
     "grade_id": "cell-051f50c8d3fcfd43",
     "locked": true,
     "schema_version": 3,
     "solution": false,
     "task": false
    }
   },
   "source": [
    "**Question 2(b)** <br> {points: 2} \n",
    "\n",
    "Copy/paste your function from **Question 1(b)**, and then improve it by adding a docstring. "
   ]
  },
  {
   "cell_type": "code",
   "execution_count": null,
   "metadata": {
    "deletable": false,
    "nbgrader": {
     "cell_type": "code",
     "checksum": "b46de74d51a170dac627082172e53654",
     "grade": false,
     "grade_id": "cell-64574cd08beda8ba",
     "locked": false,
     "schema_version": 3,
     "solution": true,
     "task": false
    }
   },
   "outputs": [],
   "source": [
    "# your code here\n",
    "raise NotImplementedError # No Answer - remove if you provide an answer"
   ]
  },
  {
   "cell_type": "code",
   "execution_count": null,
   "metadata": {
    "deletable": false,
    "editable": false,
    "nbgrader": {
     "cell_type": "code",
     "checksum": "a5b18d42d359ce6e7beb38ed29e76004",
     "grade": true,
     "grade_id": "cell-941dc3e0565022d2",
     "locked": true,
     "points": 2,
     "schema_version": 3,
     "solution": false,
     "task": false
    }
   },
   "outputs": [],
   "source": [
    "# check that the function exists\n",
    "assert 'df_filterer' in globals(\n",
    "), \"Please make sure that your solution is named 'df_filterer'\"\n",
    "\n",
    "# This test has been intentionally hidden. It will be up to you to decide if your solution\n",
    "# is sufficiently good."
   ]
  },
  {
   "cell_type": "markdown",
   "metadata": {
    "deletable": false,
    "editable": false,
    "nbgrader": {
     "cell_type": "markdown",
     "checksum": "2b41a59788308ef42dfe509f7b618cd2",
     "grade": false,
     "grade_id": "cell-4bad782bc9e24212",
     "locked": true,
     "schema_version": 3,
     "solution": false,
     "task": false
    }
   },
   "source": [
    "## 3. Function with Exceptions "
   ]
  },
  {
   "cell_type": "markdown",
   "metadata": {
    "deletable": false,
    "editable": false,
    "nbgrader": {
     "cell_type": "markdown",
     "checksum": "ef136890f6ea4b57b210f62a55e97ed7",
     "grade": false,
     "grade_id": "cell-371189afb38d299a",
     "locked": true,
     "schema_version": 3,
     "solution": false,
     "task": false
    }
   },
   "source": [
    "**Question 3(a)** <br> {points: 1} \n",
    "\n",
    "Copy/paste your function from **Question 1(b)**, and add exceptions to check that:\n",
    "\n",
    "1. A dataframe is the type of object being passed into the `data` argument (*Hint: you may want to use [this function](https://python-reference.readthedocs.io/en/latest/docs/functions/isinstance.html)*)\n",
    "1. `value` exists in the dataframe (`.tolist()` may come in handy here) \n",
    "1. `interest_column` exists in the dataframe\n",
    "1. The elements in `keep` exist in the dataframe"
   ]
  },
  {
   "cell_type": "code",
   "execution_count": null,
   "metadata": {
    "deletable": false,
    "nbgrader": {
     "cell_type": "code",
     "checksum": "04ca544f7ccd6873517e56cc8cd8ae03",
     "grade": false,
     "grade_id": "cell-300d0b8ef95fc62c",
     "locked": false,
     "schema_version": 3,
     "solution": true,
     "task": false
    }
   },
   "outputs": [],
   "source": [
    "# your code here\n",
    "raise NotImplementedError # No Answer - remove if you provide an answer"
   ]
  },
  {
   "cell_type": "code",
   "execution_count": null,
   "metadata": {
    "deletable": false,
    "editable": false,
    "nbgrader": {
     "cell_type": "code",
     "checksum": "c084bc563eb835ec538810efaced0319",
     "grade": true,
     "grade_id": "cell-9562a2d37d4770c5",
     "locked": true,
     "points": 1,
     "schema_version": 3,
     "solution": false,
     "task": false
    }
   },
   "outputs": [],
   "source": [
    "t.test_3a(df_filterer)"
   ]
  },
  {
   "cell_type": "markdown",
   "metadata": {
    "deletable": false,
    "editable": false,
    "nbgrader": {
     "cell_type": "markdown",
     "checksum": "cfb211981927eaecfe97d4677e46d49e",
     "grade": false,
     "grade_id": "cell-0d939d1085d60927",
     "locked": true,
     "schema_version": 3,
     "solution": false,
     "task": false
    }
   },
   "source": [
    "**Question 3(b)** <br> {points: 1} \n",
    "\n",
    "Copy/paste your function from **Question 1(a)**, and add at least 3 useful exceptions of your choice."
   ]
  },
  {
   "cell_type": "code",
   "execution_count": null,
   "metadata": {
    "deletable": false,
    "nbgrader": {
     "cell_type": "code",
     "checksum": "c14e1f1114b446d6cbe13f014855f0d0",
     "grade": false,
     "grade_id": "cell-6749c72a478e1942",
     "locked": false,
     "schema_version": 3,
     "solution": true,
     "task": false
    }
   },
   "outputs": [],
   "source": [
    "# your code here\n",
    "raise NotImplementedError # No Answer - remove if you provide an answer"
   ]
  },
  {
   "cell_type": "code",
   "execution_count": null,
   "metadata": {
    "deletable": false,
    "editable": false,
    "nbgrader": {
     "cell_type": "code",
     "checksum": "c9cda40bd8563e384cf6756418c1f6b5",
     "grade": true,
     "grade_id": "cell-c724712c884f844c",
     "locked": true,
     "points": 1,
     "schema_version": 3,
     "solution": false,
     "task": false
    }
   },
   "outputs": [],
   "source": [
    "t.test_3b(sample_dataframe)"
   ]
  },
  {
   "cell_type": "markdown",
   "metadata": {
    "deletable": false,
    "editable": false,
    "nbgrader": {
     "cell_type": "markdown",
     "checksum": "9828f56ef10443e97273f74dbad172c6",
     "grade": false,
     "grade_id": "cell-345dc9bb94abbc72",
     "locked": true,
     "schema_version": 3,
     "solution": false,
     "task": false
    }
   },
   "source": [
    "## 4. Helper Data and Unit Tests"
   ]
  },
  {
   "cell_type": "markdown",
   "metadata": {
    "deletable": false,
    "editable": false,
    "nbgrader": {
     "cell_type": "markdown",
     "checksum": "6f47a028014f3cb89ff90818fe9419e7",
     "grade": false,
     "grade_id": "cell-f6bb771a74ee4404",
     "locked": true,
     "schema_version": 3,
     "solution": false,
     "task": false
    }
   },
   "source": [
    "**Question 4(a)** <br> {points: 1} \n",
    "\n",
    "Write helper data for the function in **Question 1(a)** that will be useful to write unit tests. \n",
    "Name the dataframe `helper_data`.\n",
    "\n",
    "Make sure your data has 5-20 rows and 3-10 columns.   \n",
    "\n",
    "*(Remember you are expected to group and sample from this function.)* \n",
    "\n"
   ]
  },
  {
   "cell_type": "code",
   "execution_count": null,
   "metadata": {
    "deletable": false,
    "nbgrader": {
     "cell_type": "code",
     "checksum": "d42aeaf2a95036e9547d5b3afae2481d",
     "grade": false,
     "grade_id": "cell-f48823fc86eb907d",
     "locked": false,
     "schema_version": 3,
     "solution": true,
     "task": false
    }
   },
   "outputs": [],
   "source": [
    "# your code here\n",
    "raise NotImplementedError # No Answer - remove if you provide an answer\n",
    "\n",
    "set(list(helper_data.dtypes))"
   ]
  },
  {
   "cell_type": "code",
   "execution_count": null,
   "metadata": {
    "deletable": false,
    "editable": false,
    "nbgrader": {
     "cell_type": "code",
     "checksum": "5571498f240d8c364f8e66b2b3390b9c",
     "grade": true,
     "grade_id": "cell-380b5d7b8e0bfde6",
     "locked": true,
     "points": 1,
     "schema_version": 3,
     "solution": false,
     "task": false
    }
   },
   "outputs": [],
   "source": [
    "t.test_4a(helper_data)"
   ]
  },
  {
   "cell_type": "markdown",
   "metadata": {
    "deletable": false,
    "editable": false,
    "nbgrader": {
     "cell_type": "markdown",
     "checksum": "53e7ebf5c14f4cb1bd58e50f1ce73575",
     "grade": false,
     "grade_id": "cell-b0768d79241fe5e0",
     "locked": true,
     "schema_version": 3,
     "solution": false,
     "task": false
    }
   },
   "source": [
    "**Question 4(b)** <br> {points: 2} \n",
    "\n",
    "Create a function named `test_sample_dataframe` which takes zero arguments. The function should contain the code to make the helper data from **Question 4(a)**. Also in this function, write 5 `assert` tests that checks your function from **Question 1(a)** using the helper data that you made in **Question 4(a)**.\n",
    "\n",
    "After writing your function, make sure to call it and see if your function outputs any assert messages.\n",
    "\n",
    "Make sure to include a `return` statement in your function."
   ]
  },
  {
   "cell_type": "code",
   "execution_count": null,
   "metadata": {
    "deletable": false,
    "nbgrader": {
     "cell_type": "code",
     "checksum": "257f8c9edc2e59daec437490cdad212b",
     "grade": false,
     "grade_id": "cell-978105d5b3cc703c",
     "locked": false,
     "schema_version": 3,
     "solution": true,
     "task": false
    }
   },
   "outputs": [],
   "source": [
    "# your code here\n",
    "raise NotImplementedError # No Answer - remove if you provide an answer\n",
    "\n",
    "test_sample_dataframe()"
   ]
  },
  {
   "cell_type": "code",
   "execution_count": null,
   "metadata": {
    "deletable": false,
    "editable": false,
    "nbgrader": {
     "cell_type": "code",
     "checksum": "ec563cd5b0f88c75c0e7484ce880b886",
     "grade": true,
     "grade_id": "cell-195edb5dbafe3471",
     "locked": true,
     "points": 2,
     "schema_version": 3,
     "solution": false,
     "task": false
    }
   },
   "outputs": [],
   "source": [
    "# check that the function exists\n",
    "assert 'test_sample_dataframe' in globals(\n",
    "), \"Please make sure that your solution is named 'test_sample_dataframe'\"\n",
    "\n",
    "# This test has been intentionally hidden. It will be up to you to decide if your solution\n",
    "# is sufficiently good."
   ]
  },
  {
   "cell_type": "markdown",
   "metadata": {
    "deletable": false,
    "editable": false,
    "nbgrader": {
     "cell_type": "markdown",
     "checksum": "d9dfc2f16dbc3ae0c66a107cd3109238",
     "grade": false,
     "grade_id": "cell-9e1f9376336dfc96",
     "locked": true,
     "schema_version": 3,
     "solution": false,
     "task": false
    }
   },
   "source": [
    "## 5. Function Design"
   ]
  },
  {
   "cell_type": "markdown",
   "metadata": {
    "deletable": false,
    "editable": false,
    "nbgrader": {
     "cell_type": "markdown",
     "checksum": "7384336281dfc2bdc68579d8d01213b1",
     "grade": false,
     "grade_id": "cell-64dd6ffacc910989",
     "locked": true,
     "schema_version": 3,
     "solution": false,
     "task": false
    }
   },
   "source": [
    "**Question  5(a)** <br> {points: 1} \n",
    "\n",
    "Below we have a function that takes zero arguments and returns the astronaut dataframe filtered to only include astronauts who have had over 6000 hours of space flight.\n",
    "\n",
    "_**DISCLAIMER:** We understand that one of the limitations of the following dataset is that it reflects binary sex categories._"
   ]
  },
  {
   "cell_type": "code",
   "execution_count": null,
   "metadata": {
    "deletable": false,
    "editable": false,
    "nbgrader": {
     "cell_type": "code",
     "checksum": "f1c70995bc36789efde422706e7e1aa6",
     "grade": false,
     "grade_id": "cell-0221274e29be5ab8",
     "locked": true,
     "schema_version": 3,
     "solution": false,
     "task": false
    }
   },
   "outputs": [],
   "source": [
    "def load_astronauts(): \n",
    "    \"\"\"\n",
    "    Reads in the astronaut data and filters it for space flight time\n",
    "    greater than 6000\n",
    "    \n",
    "    Returns\n",
    "    -------\n",
    "    pandas.core.frame.DataFrame\n",
    "        The filtered astronaut dataframe \n",
    "    \n",
    "    Examples\n",
    "    --------\n",
    "    >>> load_astronauts()\n",
    "    \"\"\"\n",
    "    \n",
    "    df = pd.read_csv('data/astronauts.csv')\n",
    "    df = df[df['Space Flight (hr)'] >= 6000]\n",
    "    return df"
   ]
  },
  {
   "cell_type": "code",
   "execution_count": null,
   "metadata": {
    "deletable": false,
    "editable": false,
    "nbgrader": {
     "cell_type": "code",
     "checksum": "843eceb77ddd66f503d7ea817f5a9863",
     "grade": false,
     "grade_id": "cell-e49b3b0e4d353e83",
     "locked": true,
     "schema_version": 3,
     "solution": false,
     "task": false
    }
   },
   "outputs": [],
   "source": [
    "space = load_astronauts()\n",
    "space"
   ]
  },
  {
   "cell_type": "markdown",
   "metadata": {
    "deletable": false,
    "editable": false,
    "nbgrader": {
     "cell_type": "markdown",
     "checksum": "b15b92df2cf916208c431f90d33b5a6d",
     "grade": false,
     "grade_id": "cell-fee52a72dc6905d8",
     "locked": true,
     "schema_version": 3,
     "solution": false,
     "task": false
    }
   },
   "source": [
    "What is wrong with the function `load_astronauts()`?\n",
    "\n",
    "\n",
    "A) It doesn't take any arguments which is not good function design. \n",
    "\n",
    "B) It's attempting to do too many things by reading in the data AND filtering on `Space Flight (hr)`\n",
    "\n",
    "C) It contains side effects that could easily be removed. \n",
    "\n",
    "D) It limits the user to only use the function to obtain astronauts with a hard-coded amount of `'Space Flight (hr)'` time. \n",
    "\n",
    "\n",
    "\n",
    "\n",
    "*Answer in the cell below using the uppercase letter associated with your answer. Place your answer between \"\", assign the correct answer to an object called `answer5_a`.*"
   ]
  },
  {
   "cell_type": "code",
   "execution_count": null,
   "metadata": {
    "deletable": false,
    "nbgrader": {
     "cell_type": "code",
     "checksum": "33ad5b363f76fda375c3f1214402cd32",
     "grade": false,
     "grade_id": "cell-d1f3fdc4dadabf42",
     "locked": false,
     "schema_version": 3,
     "solution": true,
     "task": false
    }
   },
   "outputs": [],
   "source": [
    "answer5_a = None\n",
    "\n",
    "# your code here\n",
    "raise NotImplementedError # No Answer - remove if you provide an answer\n"
   ]
  },
  {
   "cell_type": "code",
   "execution_count": null,
   "metadata": {
    "deletable": false,
    "editable": false,
    "nbgrader": {
     "cell_type": "code",
     "checksum": "38bbf901f000d45adc50bbe91d06fbbe",
     "grade": true,
     "grade_id": "cell-db35516640346b31",
     "locked": true,
     "points": 1,
     "schema_version": 3,
     "solution": false,
     "task": false
    }
   },
   "outputs": [],
   "source": [
    "t.test_5a(answer5_a)"
   ]
  },
  {
   "cell_type": "markdown",
   "metadata": {
    "deletable": false,
    "editable": false,
    "nbgrader": {
     "cell_type": "markdown",
     "checksum": "2523c418be95443bc911a4d00ecfa3d3",
     "grade": false,
     "grade_id": "cell-e152505a7a29453b",
     "locked": true,
     "schema_version": 3,
     "solution": false,
     "task": false
    }
   },
   "source": [
    "**Question  5(b)** <br> {points: 2} \n",
    "\n",
    "Given the function above, write a new similar function named `astronauts_space_time` that takes in an argument and corrects for the issue you identified above. \n",
    "\n",
    "Remember to add a `docstring` in your function."
   ]
  },
  {
   "cell_type": "code",
   "execution_count": null,
   "metadata": {
    "deletable": false,
    "nbgrader": {
     "cell_type": "code",
     "checksum": "0d9b1c45a250f73c49b439addbd2aa57",
     "grade": false,
     "grade_id": "cell-872e6df300e27ff6",
     "locked": false,
     "schema_version": 3,
     "solution": true,
     "task": false
    }
   },
   "outputs": [],
   "source": [
    "# your code here\n",
    "raise NotImplementedError # No Answer - remove if you provide an answer"
   ]
  },
  {
   "cell_type": "code",
   "execution_count": null,
   "metadata": {
    "deletable": false,
    "editable": false,
    "nbgrader": {
     "cell_type": "code",
     "checksum": "f2ec928c3a8f0ba861d85101a6db38ed",
     "grade": true,
     "grade_id": "cell-9abadc14a9c5bae6",
     "locked": true,
     "points": 2,
     "schema_version": 3,
     "solution": false,
     "task": false
    }
   },
   "outputs": [],
   "source": [
    "# check that the function exists\n",
    "assert 'astronauts_space_time' in globals(\n",
    "), \"Please make sure that your solution is named 'astronauts_space_time'\"\n",
    "\n",
    "# This test has been intentionally hidden. It will be up to you to decide if your solution\n",
    "# is sufficiently good."
   ]
  },
  {
   "cell_type": "markdown",
   "metadata": {
    "deletable": false,
    "editable": false,
    "nbgrader": {
     "cell_type": "markdown",
     "checksum": "97e4bfb05307505da0c2006a5579ae0e",
     "grade": false,
     "grade_id": "cell-df6cf893a0eb1d4d",
     "locked": true,
     "schema_version": 3,
     "solution": false,
     "task": false
    }
   },
   "source": [
    "**Question  5(c)** <br> {points: 1} \n",
    "\n",
    "The function `astronaut_full_service` reads in the astronaut dataframe and prints multiple calculations and returns a plot. "
   ]
  },
  {
   "cell_type": "code",
   "execution_count": null,
   "metadata": {
    "deletable": false,
    "editable": false,
    "nbgrader": {
     "cell_type": "code",
     "checksum": "2a49e6558434936ebf14552671c5f5f2",
     "grade": false,
     "grade_id": "cell-04539a9ea57a2e20",
     "locked": true,
     "schema_version": 3,
     "solution": false,
     "task": false
    }
   },
   "outputs": [],
   "source": [
    "def astronaut_full_service(status=None): \n",
    "    \"\"\"\n",
    "    Reads in the astronaut data, and potentially filters the data based on status.\n",
    "    It prints out the mean space flight time and then plots it as a histogram with \n",
    "    both genders and plots both genders seperately. \n",
    "\n",
    "    \n",
    "    Parameters\n",
    "    ----------\n",
    "    status : str, optional\n",
    "        The status of an astronaut; Active, Deceased, Retired, etc (the default is None which implies \n",
    "        that no filtering is occuring) \n",
    "    \n",
    "    Returns\n",
    "    -------\n",
    "    altair.vegalite.v4.api.FacetChart\n",
    "        A histogram faceted for gender of the Space flight time. \n",
    "    \n",
    "    Examples\n",
    "    --------\n",
    "    >>> astronaut_full_service('Retired')\n",
    "    Alt.Chart(...)\n",
    "    \"\"\"\n",
    "    \n",
    "    df = pd.read_csv('data/astronauts.csv')\n",
    "    \n",
    "    if status is not None: \n",
    "        df = df[df['Status'] >= status]\n",
    "\n",
    "    mean_flight =  df['Space Flight (hr)'].mean()\n",
    "    \n",
    "    print('Mean Space Walk Time:', mean_flight) \n",
    "    \n",
    "    \n",
    "    plot1 = alt.Chart(df).mark_bar(size=40, color = 'tomato').encode(\n",
    "            alt.X('Space Flights:Q'),\n",
    "            alt.Y('count()'))\n",
    "    \n",
    "    plot1.display()\n",
    "    \n",
    "    plot2 = alt.Chart(df).mark_bar(size=40).encode(\n",
    "            alt.X('Space Flights:Q'),\n",
    "            alt.Y('count()'),\n",
    "            color=alt.Color('Gender',\n",
    "                   scale=alt.Scale(\n",
    "            domain=['Male', 'Female'],\n",
    "            range=['Navy', 'tomato']))\n",
    "    ).facet(alt.Column('Gender:N'))\n",
    " \n",
    "    return plot2"
   ]
  },
  {
   "cell_type": "code",
   "execution_count": null,
   "metadata": {
    "deletable": false,
    "editable": false,
    "lines_to_next_cell": 2,
    "nbgrader": {
     "cell_type": "code",
     "checksum": "a8e7be282084679a4690c4b6c46e0c40",
     "grade": false,
     "grade_id": "cell-85c133ea4b98ef9c",
     "locked": true,
     "schema_version": 3,
     "solution": false,
     "task": false
    }
   },
   "outputs": [],
   "source": [
    "astronaut_full_service('Deceased')"
   ]
  },
  {
   "cell_type": "markdown",
   "metadata": {
    "deletable": false,
    "editable": false,
    "nbgrader": {
     "cell_type": "markdown",
     "checksum": "decad161e18a3627b7aab3c2e5b09f70",
     "grade": false,
     "grade_id": "cell-3c77f1da7c0d7a26",
     "locked": true,
     "schema_version": 3,
     "solution": false,
     "task": false
    }
   },
   "source": [
    "What is the primary issue with function `astronaut_full_service()`?\n",
    "\n",
    "\n",
    "A) The arguments it accepts are too limited. Having more options for arguments will give the ability to produce plots with more versatility and better insights \n",
    "\n",
    "B) There is no way of obtaining the results of `mean_flight`  from this function. The user would need to write additional code to obtain it. \n",
    "\n",
    "C) It contains side effects that could easily be removed. \n",
    "\n",
    "D) The plots are calling in variables from the global environment. \n",
    "\n",
    "\n",
    "\n",
    "*Answer in the cell below using the uppercase letter associated with your answer. Place your answer between \"\", assign the correct answer to an object called `answer5_c`.*"
   ]
  },
  {
   "cell_type": "code",
   "execution_count": null,
   "metadata": {
    "deletable": false,
    "nbgrader": {
     "cell_type": "code",
     "checksum": "5b555e0a52c47a2dc5277616d7c4dadc",
     "grade": false,
     "grade_id": "cell-647a778e527c5029",
     "locked": false,
     "schema_version": 3,
     "solution": true,
     "task": false
    }
   },
   "outputs": [],
   "source": [
    "answer5_c = None\n",
    "\n",
    "# your code here\n",
    "raise NotImplementedError # No Answer - remove if you provide an answer\n"
   ]
  },
  {
   "cell_type": "code",
   "execution_count": null,
   "metadata": {
    "deletable": false,
    "editable": false,
    "nbgrader": {
     "cell_type": "code",
     "checksum": "8c9eb4e9cac5687d11055266218b2e81",
     "grade": true,
     "grade_id": "cell-0e37a89811d61606",
     "locked": true,
     "points": 1,
     "schema_version": 3,
     "solution": false,
     "task": false
    }
   },
   "outputs": [],
   "source": [
    "t.test_5c(answer5_c)"
   ]
  },
  {
   "cell_type": "markdown",
   "metadata": {
    "deletable": false,
    "editable": false,
    "nbgrader": {
     "cell_type": "markdown",
     "checksum": "3c05407768f3b9e499fa905e3cd379fa",
     "grade": false,
     "grade_id": "cell-147d6e6d9adc297b",
     "locked": true,
     "schema_version": 3,
     "solution": false,
     "task": false
    }
   },
   "source": [
    "**Question  5(d)** <br> {points: 1} \n",
    "\n",
    "Given the function `astronaut_full_service`  write a new function similar function named `astronauts_stats` that  corrects for the issue you identified above. \n",
    "\n",
    "Your function should return a single value. \n",
    "\n",
    "Make sure to include a `docstring` for you function.\n",
    "\n",
    "Test it out with `status='Deceased'`."
   ]
  },
  {
   "cell_type": "code",
   "execution_count": null,
   "metadata": {
    "deletable": false,
    "nbgrader": {
     "cell_type": "code",
     "checksum": "a42c3263d63d3af8770d3d822d6c99d1",
     "grade": false,
     "grade_id": "cell-6ea498bc044b25bf",
     "locked": false,
     "schema_version": 3,
     "solution": true,
     "task": false
    }
   },
   "outputs": [],
   "source": [
    "# your code here\n",
    "raise NotImplementedError # No Answer - remove if you provide an answer"
   ]
  },
  {
   "cell_type": "code",
   "execution_count": null,
   "metadata": {
    "deletable": false,
    "editable": false,
    "nbgrader": {
     "cell_type": "code",
     "checksum": "e568e2f44723029b7da0a698ac90912c",
     "grade": true,
     "grade_id": "cell-e2e00e6bf3bb2fb7",
     "locked": true,
     "points": 1,
     "schema_version": 3,
     "solution": false,
     "task": false
    }
   },
   "outputs": [],
   "source": [
    "t.test_5d(astronauts_stats)"
   ]
  },
  {
   "cell_type": "markdown",
   "metadata": {
    "deletable": false,
    "editable": false,
    "nbgrader": {
     "cell_type": "markdown",
     "checksum": "9be6c0db2bac502569116be68db5e7ef",
     "grade": false,
     "grade_id": "cell-fd9b8e162ed7f75c",
     "locked": true,
     "schema_version": 3,
     "solution": false,
     "task": false
    }
   },
   "source": [
    "**Question  5(e)** <br> {points: 1} \n",
    "\n",
    "We have a final function named `filter_astronauts` that uses the astronaut dataset as an argument. It takes multiple arguments and returns a dictionary with 2 dataframes as values\n"
   ]
  },
  {
   "cell_type": "code",
   "execution_count": null,
   "metadata": {
    "deletable": false,
    "nbgrader": {
     "cell_type": "code",
     "checksum": "543b3785bd06fad40c29c02291b5a5d7",
     "grade": false,
     "grade_id": "cell-8edab5e6fc8c906a",
     "locked": false,
     "schema_version": 3,
     "solution": true,
     "task": false
    }
   },
   "outputs": [],
   "source": [
    "# your code here\n",
    "raise NotImplementedError # No Answer - remove if you provide an answer"
   ]
  },
  {
   "cell_type": "code",
   "execution_count": null,
   "metadata": {
    "deletable": false,
    "editable": false,
    "nbgrader": {
     "cell_type": "code",
     "checksum": "b951c674ca10c299f800dac8efdfe2bd",
     "grade": false,
     "grade_id": "cell-e720bf42d4b188a2",
     "locked": true,
     "schema_version": 3,
     "solution": false,
     "task": false
    }
   },
   "outputs": [],
   "source": [
    "filter_astronauts(astronauts, \"No Rank\", 1996, 2010 )"
   ]
  },
  {
   "cell_type": "markdown",
   "metadata": {
    "deletable": false,
    "editable": false,
    "nbgrader": {
     "cell_type": "markdown",
     "checksum": "4ba5e8ca914fd6d3bf751856d5203d6b",
     "grade": false,
     "grade_id": "cell-d4cb9aa77f12e09d",
     "locked": true,
     "schema_version": 3,
     "solution": false,
     "task": false
    }
   },
   "source": [
    "Why is the function `filter_astronauts()` not considered the best possible design ?\n",
    "\n",
    "A) It returns a dictionary which is not good function design. \n",
    "\n",
    "B) It's attempting to do too many things and it would be better to have 2 separate functions, one that returns each dataframe. \n",
    "\n",
    "C) It contains side effects that could easily be removed. \n",
    "\n",
    "D) It limits the user's ability to filter on specific columns. \n",
    "\n",
    "\n",
    "*Answer in the cell below using the uppercase letter associated with your answer. Place your answer between \"\", assign the correct answer to an object called `answer5_e`.*"
   ]
  },
  {
   "cell_type": "code",
   "execution_count": null,
   "metadata": {
    "deletable": false,
    "nbgrader": {
     "cell_type": "code",
     "checksum": "2042b70c7fd28abd36ea8dab2e1aff3b",
     "grade": false,
     "grade_id": "cell-24c846478500c470",
     "locked": false,
     "schema_version": 3,
     "solution": true,
     "task": false
    }
   },
   "outputs": [],
   "source": [
    "answer5_e = None\n",
    "\n",
    "# your code here\n",
    "raise NotImplementedError # No Answer - remove if you provide an answer\n"
   ]
  },
  {
   "cell_type": "code",
   "execution_count": null,
   "metadata": {
    "deletable": false,
    "editable": false,
    "nbgrader": {
     "cell_type": "code",
     "checksum": "663873b03e018f70fe4db77453a9fce7",
     "grade": true,
     "grade_id": "cell-ed62e9fa8c8405a4",
     "locked": true,
     "points": 1,
     "schema_version": 3,
     "solution": false,
     "task": false
    }
   },
   "outputs": [],
   "source": [
    "t.test_5e(answer5_e)"
   ]
  },
  {
   "cell_type": "markdown",
   "metadata": {
    "deletable": false,
    "editable": false,
    "nbgrader": {
     "cell_type": "markdown",
     "checksum": "9230bd09678485eb6d57a6dce76ee070",
     "grade": false,
     "grade_id": "cell-a7285b8f6620bb83",
     "locked": true,
     "schema_version": 3,
     "solution": false,
     "task": false
    }
   },
   "source": [
    "**Question  5(f)** <br> {points: 1} \n",
    "\n",
    "Given the function above, solve the issue that you specified above by making 2 new functions named `filters_military_rank` and `filters_active_years`. \n",
    "Your new functions should have applicable arguments from the function in question `5e`.\n",
    "\n",
    "Make sure to include a `docstring` for your function.\n",
    "\n",
    "Run your new functions using the same parameters as: \n",
    "\n",
    "`filter_astronauts(astronauts, \"No Rank\", 1996, 2010)`\n",
    "\n",
    "Save your answers in objects named `astro_no_rank` and `astro_96_10`."
   ]
  },
  {
   "cell_type": "code",
   "execution_count": null,
   "metadata": {
    "deletable": false,
    "nbgrader": {
     "cell_type": "code",
     "checksum": "0dc5f74ad58142e1690b854f43cae430",
     "grade": false,
     "grade_id": "cell-919a370931bd870f",
     "locked": false,
     "schema_version": 3,
     "solution": true,
     "task": false
    }
   },
   "outputs": [],
   "source": [
    "astronauts = pd.read_csv('data/astronauts.csv')\n",
    "\n",
    "# your code here\n",
    "raise NotImplementedError # No Answer - remove if you provide an answer"
   ]
  },
  {
   "cell_type": "code",
   "execution_count": null,
   "metadata": {
    "deletable": false,
    "editable": false,
    "nbgrader": {
     "cell_type": "code",
     "checksum": "0ffa96a782a03f1541e60d927a8c69e7",
     "grade": true,
     "grade_id": "cell-efa69495ceec32ee",
     "locked": true,
     "points": 1,
     "schema_version": 3,
     "solution": false,
     "task": false
    }
   },
   "outputs": [],
   "source": [
    "t.test_5f(filters_military_rank,filters_active_years,astronauts)"
   ]
  },
  {
   "cell_type": "markdown",
   "metadata": {
    "deletable": false,
    "editable": false,
    "nbgrader": {
     "cell_type": "markdown",
     "checksum": "f64f134fe95ff6b02b1666215d766c48",
     "grade": false,
     "grade_id": "cell-aabb9266626c5d01",
     "locked": true,
     "schema_version": 3,
     "solution": false,
     "task": false
    }
   },
   "source": [
    "Before submitting your assignment please do the following:\n",
    "\n",
    "- Read through your solutions\n",
    "- **Restart your kernel and clear output and rerun your cells from top to bottom** \n",
    "- Makes sure that none of your code is broken \n",
    "- Verify that the tests from the questions you answered have obtained the output \"Success\"\n",
    "\n",
    "This is a simple way to make sure that you are submitting all the variables needed to mark the assignment. This method should help avoid losing marks due to changes in your environment.  "
   ]
  },
  {
   "cell_type": "markdown",
   "metadata": {
    "deletable": false,
    "editable": false,
    "nbgrader": {
     "cell_type": "markdown",
     "checksum": "9847fb1708c60d3c2e14a09e5d8f7069",
     "grade": false,
     "grade_id": "cell-901e9559eea3c7de",
     "locked": true,
     "schema_version": 3,
     "solution": false,
     "task": false
    }
   },
   "source": [
    "## Attributions\n",
    "- MDS DSCI 511 - Programming for Data Science - [MDS's GitHub website](https://ubc-mds.github.io/course-descriptions/DSCI_511_prog-dsci/) \n",
    "- Astronaut Dataset - [Kaggle](https://www.kaggle.com/nasa/astronaut-yearbook?select=astronauts.csv)"
   ]
  },
  {
   "cell_type": "markdown",
   "metadata": {
    "deletable": false,
    "editable": false,
    "nbgrader": {
     "cell_type": "markdown",
     "checksum": "74cd8fd1ba17f6c1796e571d389f912b",
     "grade": false,
     "grade_id": "cell-077aaf10ffc9074c",
     "locked": true,
     "schema_version": 3,
     "solution": false,
     "task": false
    }
   },
   "source": [
    "## Module Debriefing\n",
    "\n",
    "If this video is not showing up below, click on the cell and click the ▶ button in the toolbar above."
   ]
  },
  {
   "cell_type": "code",
   "execution_count": null,
   "metadata": {},
   "outputs": [],
   "source": [
    "from IPython.display import YouTubeVideo\n",
    "YouTubeVideo('3d5rOf1SEUY', width=854, height=480)"
   ]
  },
  {
   "cell_type": "code",
   "execution_count": null,
   "metadata": {},
   "outputs": [],
   "source": []
  }
 ],
 "metadata": {
  "kernelspec": {
   "display_name": "Python 3",
   "language": "python",
   "name": "python3"
  },
  "language_info": {
   "codemirror_mode": {
    "name": "ipython",
    "version": 3
   },
   "file_extension": ".py",
   "mimetype": "text/x-python",
   "name": "python",
   "nbconvert_exporter": "python",
   "pygments_lexer": "ipython3",
   "version": "3.8.5"
  }
 },
 "nbformat": 4,
 "nbformat_minor": 4
}
