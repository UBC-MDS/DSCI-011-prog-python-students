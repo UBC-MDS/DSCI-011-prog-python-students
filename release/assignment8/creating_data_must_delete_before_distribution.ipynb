{
 "cells": [
  {
   "cell_type": "markdown",
   "metadata": {},
   "source": [
    "### Making Question 3a"
   ]
  },
  {
   "cell_type": "code",
   "execution_count": null,
   "metadata": {},
   "outputs": [],
   "source": [
    "import pandas as pd"
   ]
  },
  {
   "cell_type": "code",
   "execution_count": null,
   "metadata": {},
   "outputs": [],
   "source": [
    "whole = pd.read_csv('data/astronauts.csv', index_col=0)\n",
    "whole"
   ]
  },
  {
   "cell_type": "code",
   "execution_count": null,
   "metadata": {},
   "outputs": [],
   "source": [
    "\n",
    "\n",
    "\n",
    "dataframe_left = whole.loc[['Gregory E. Chamitoff','Patricia Hilliard Robertson','Kathleen Rubins','Michael T. Good', 'Neil A. Armstrong' ],\n",
    "                           [ 'Gender','Status', 'Birth Date', 'Birth Place' ]].reset_index()\n",
    "\n",
    "dataframe_left"
   ]
  },
  {
   "cell_type": "code",
   "execution_count": null,
   "metadata": {},
   "outputs": [],
   "source": [
    "dataframe_right = whole.loc[['Buzz Aldrin', 'Patricia Hilliard Robertson', 'Neil A. Armstrong', 'Mae C. Jemison','Michael T. Good', 'Shannon W. Lucid' ],\n",
    "                           ['Undergraduate Major', 'Graduate Major',  'Space Flights', 'Space Walks', 'Space Walks (hr)']].reset_index()\n",
    "\n",
    "dataframe_right"
   ]
  },
  {
   "cell_type": "code",
   "execution_count": null,
   "metadata": {},
   "outputs": [],
   "source": [
    "print(dataframe_left.to_markdown())"
   ]
  },
  {
   "cell_type": "code",
   "execution_count": null,
   "metadata": {},
   "outputs": [],
   "source": [
    "dataframe_left.merge(dataframe_right, left_on='Name', right_on='Name', how='inner')"
   ]
  },
  {
   "cell_type": "code",
   "execution_count": null,
   "metadata": {},
   "outputs": [],
   "source": [
    "dataframe_left.merge(dataframe_right, left_on='Name', right_on='Name', how='outer')"
   ]
  },
  {
   "cell_type": "code",
   "execution_count": null,
   "metadata": {},
   "outputs": [],
   "source": [
    "dataframe_left.merge(dataframe_right, left_on='Name', right_on='Name', how='left').to_markdown()"
   ]
  },
  {
   "cell_type": "code",
   "execution_count": null,
   "metadata": {},
   "outputs": [],
   "source": [
    "dataframe_left.merge(dataframe_right, left_on='Name', right_on='Name', how='right').to_markdown()"
   ]
  },
  {
   "cell_type": "code",
   "execution_count": null,
   "metadata": {},
   "outputs": [],
   "source": [
    "medals_df"
   ]
  },
  {
   "cell_type": "code",
   "execution_count": null,
   "metadata": {},
   "outputs": [],
   "source": [
    "tv = pd.read_csv('data/netflix_titles.csv', index_col='title')\n",
    "tv.head()"
   ]
  },
  {
   "cell_type": "code",
   "execution_count": null,
   "metadata": {},
   "outputs": [],
   "source": [
    "df1 = tv.loc[['Planet Earth: The Complete Collection','Bee Movie', 'Calendar Girls', 'Martin Luther: The Idea that Changed the World', \"Chef's Table\"], ['type', 'director',  'country']]\n",
    "df1.to_csv('data/netflix1.csv')"
   ]
  },
  {
   "cell_type": "code",
   "execution_count": null,
   "metadata": {},
   "outputs": [],
   "source": [
    "df2 = tv.loc[['Planet Earth: The Complete Collection','Bee Movie', 'Calendar Girls', 'Martin Luther: The Idea that Changed the World', \"Chef's Table\"], [ 'date_added', 'release_year', 'rating',  'duration']]\n",
    "df2.to_csv('data/netflix2.csv')"
   ]
  },
  {
   "cell_type": "code",
   "execution_count": null,
   "metadata": {},
   "outputs": [],
   "source": [
    "df1 = df1.reset_index()\n",
    "df2 = df2.reset_index()"
   ]
  },
  {
   "cell_type": "code",
   "execution_count": null,
   "metadata": {},
   "outputs": [],
   "source": [
    "df1"
   ]
  },
  {
   "cell_type": "code",
   "execution_count": null,
   "metadata": {},
   "outputs": [],
   "source": [
    "pd.concat([df1,df2], axis=1)"
   ]
  },
  {
   "cell_type": "code",
   "execution_count": null,
   "metadata": {},
   "outputs": [],
   "source": [
    "df3 = tv.loc[['Ozark', 'Friends', 'Blackfish'], ['type', 'director',  'country', 'date_added', 'release_year', 'rating',  'duration']]\n",
    "df3.to_csv('data/netflix3.csv')"
   ]
  },
  {
   "cell_type": "code",
   "execution_count": null,
   "metadata": {},
   "outputs": [],
   "source": []
  }
 ],
 "metadata": {
  "kernelspec": {
   "display_name": "Python 3",
   "language": "python",
   "name": "python3"
  },
  "language_info": {
   "codemirror_mode": {
    "name": "ipython",
    "version": 3
   },
   "file_extension": ".py",
   "mimetype": "text/x-python",
   "name": "python",
   "nbconvert_exporter": "python",
   "pygments_lexer": "ipython3",
   "version": "3.7.7"
  }
 },
 "nbformat": 4,
 "nbformat_minor": 4
}
