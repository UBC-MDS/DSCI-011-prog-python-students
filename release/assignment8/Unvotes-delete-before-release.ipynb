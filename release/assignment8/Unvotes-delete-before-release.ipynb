{
 "cells": [
  {
   "cell_type": "markdown",
   "metadata": {},
   "source": [
    "**Question 2(a)** <br> {points: 1}  \n",
    "\n",
    "The Harvard Dataverse has made [United Nations General Assembly Voting Data](https://dataverse.harvard.edu/dataset.xhtml?persistentId=doi:10.7910/DVN/LEJUQZ&version=27.0) public which we will be using for this next few questions. Attribution for this dataset can be found in our attribution section. \n",
    " \n",
    "We will only be working with a small portion of the complete dataset. "
   ]
  },
  {
   "cell_type": "code",
   "execution_count": null,
   "metadata": {},
   "outputs": [],
   "source": [
    "unvotes = pd.read_csv('data/subvotes.csv')\n",
    "unvotes"
   ]
  },
  {
   "cell_type": "code",
   "execution_count": null,
   "metadata": {},
   "outputs": [],
   "source": [
    "countries = [1, 2, 4, 5]"
   ]
  },
  {
   "cell_type": "code",
   "execution_count": null,
   "metadata": {},
   "outputs": [],
   "source": [
    "n = len(countries)\n",
    "countries[range(n), range(n)] = np.nan"
   ]
  },
  {
   "cell_type": "code",
   "execution_count": null,
   "metadata": {},
   "outputs": [],
   "source": [
    "votes = unvotes\n",
    "votes = votes.pivot(index='country', columns='rcid')\n",
    "votes = votes[np.sum(np.isnan(votes), axis=1)<1]\n",
    "\n",
    "# Here we 17 countries\n",
    "dist = pd.DataFrame(distance.cdist(votes,votes, metric=\"hamming\"))\n",
    "dist.index = votes.index\n",
    "dist.columns = votes.index\n",
    "\n",
    "# Just Small trick\n",
    "dist.values[tuple([np.arange(17)]*2)]=6e2"
   ]
  }
 ],
 "metadata": {
  "kernelspec": {
   "display_name": "Python 3",
   "language": "python",
   "name": "python3"
  },
  "language_info": {
   "codemirror_mode": {
    "name": "ipython",
    "version": 3
   },
   "file_extension": ".py",
   "mimetype": "text/x-python",
   "name": "python",
   "nbconvert_exporter": "python",
   "pygments_lexer": "ipython3",
   "version": "3.7.7"
  }
 },
 "nbformat": 4,
 "nbformat_minor": 4
}
