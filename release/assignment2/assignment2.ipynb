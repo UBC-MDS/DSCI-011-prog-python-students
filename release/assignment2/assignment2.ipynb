{
 "cells": [
  {
   "cell_type": "markdown",
   "metadata": {
    "nbgrader": {
     "grade": false,
     "grade_id": "cell-c2df8db580fe7ed7",
     "locked": true,
     "schema_version": 3,
     "solution": false,
     "task": false
    }
   },
   "source": [
    "# MCL-DSCI-011 Programming in Python for Data Science \n",
    "\n",
    "# Assignment 2: Table Manipulation and Chaining"
   ]
  },
  {
   "cell_type": "markdown",
   "metadata": {
    "nbgrader": {
     "grade": false,
     "grade_id": "cell-f6edffb758903508",
     "locked": true,
     "schema_version": 3,
     "solution": false,
     "task": false
    }
   },
   "source": [
    "You can't learn technical subjects without hands-on practice. The assignments are an important part of the course. To submit this assignment you will need to make sure that you save your Jupyter notebook. \n",
    "\n",
    "Below are the links of 2 videos that explain:\n",
    "\n",
    "1. [How to save your Jupyter notebook](https://youtu.be/0aoLgBoAUSA) and,       \n",
    "2. [How to answer a question in a Jupyter notebook assignment](https://youtu.be/7j0WKhI3W4s).  "
   ]
  },
  {
   "cell_type": "markdown",
   "metadata": {
    "nbgrader": {
     "grade": false,
     "grade_id": "cell-cb0eb4712f3593ae",
     "locked": true,
     "schema_version": 3,
     "solution": false,
     "task": false
    }
   },
   "source": [
    "### Assignment Learning Goals:\n",
    "\n",
    "By the end of the module, students are expected to:\n",
    "- Demonstrate how to rename columns of a dataframe using [`.rename()`](https://pandas.pydata.org/pandas-docs/stable/reference/api/pandas.DataFrame.rename.html).\n",
    "- Create new or columns in a dataframe using [`.assign()`](https://pandas.pydata.org/pandas-docs/stable/reference/api/pandas.DataFrame.assign.html) notation.\n",
    "- Drop columns in a dataframe using [`.drop()`](https://pandas.pydata.org/pandas-docs/stable/reference/api/pandas.DataFrame.drop.html)\n",
    "- Use `df[]` notation to filter rows of a dataframe.\n",
    "- Calculate summary statistics on grouped objects using [`.groupby()`](https://pandas.pydata.org/pandas-docs/stable/reference/api/pandas.DataFrame.groupby.html) and [`.agg()`](https://pandas.pydata.org/pandas-docs/stable/reference/api/pandas.DataFrame.agg.html).\n",
    "- Explain when chaining is appropriate.\n",
    "- Demonstrate chaining over multiple lines and verbs.\n",
    "\n",
    "This assignment covers [Module 2](https://prog-learn.mds.ubc.ca/en/module2) of the online course. You should complete this module before attempting this assignment."
   ]
  },
  {
   "cell_type": "markdown",
   "metadata": {
    "nbgrader": {
     "grade": false,
     "grade_id": "cell-4a6ccb249928ab0e",
     "locked": true,
     "schema_version": 3,
     "solution": false,
     "task": false
    }
   },
   "source": [
    "Any place you see `...`, you must fill in the function, variable, or data to complete the code. Substitute the `None` with your completed code and answers then proceed to run the cell!"
   ]
  },
  {
   "cell_type": "markdown",
   "metadata": {
    "nbgrader": {
     "grade": false,
     "grade_id": "cell-952d6590f55ddc03",
     "locked": true,
     "schema_version": 3,
     "solution": false,
     "task": false
    }
   },
   "source": [
    "Note that some of the questions in this assignment will have hidden tests. This means that no feedback will be given as to the correctness of your solution. It will be left up to you to decide if your answer is sufficiently correct."
   ]
  },
  {
   "cell_type": "code",
   "execution_count": 1,
   "metadata": {
    "nbgrader": {
     "grade": false,
     "grade_id": "cell-8de1c631bef0ac9c",
     "locked": true,
     "schema_version": 3,
     "solution": false,
     "task": false
    }
   },
   "outputs": [],
   "source": [
    "# Import libraries needed for this lab\n",
    "from hashlib import sha1\n",
    "import test_assignment2 as t\n",
    "import pandas as pd\n",
    "import altair as alt\n"
   ]
  },
  {
   "cell_type": "markdown",
   "metadata": {
    "nbgrader": {
     "grade": false,
     "grade_id": "cell-e2f03a4d1dd1f11b",
     "locked": true,
     "schema_version": 3,
     "solution": false,
     "task": false
    }
   },
   "source": [
    "## 1. Loading files with Pandas \n",
    "\n",
    "In the previous module we loaded data from `csv` files using `pd.read_csv()` with limited arguments. However, most commonly you will need to create additional arguments or `pd.read_excel()` to load in a dataset to a dataframe that you can work with. `pd.read_excel()` and `pd.read_csv()` have many parameters that help read data files of different structures and formats. "
   ]
  },
  {
   "cell_type": "markdown",
   "metadata": {
    "nbgrader": {
     "grade": false,
     "grade_id": "cell-0c140abff04a04ba",
     "locked": true,
     "schema_version": 3,
     "solution": false,
     "task": false
    }
   },
   "source": [
    " In the `data` folder there are 8 different `.csv` and `.xlsx` files named `wine_letter.csv/.txt/.xlsx` (example- if the question is 1(f), the corresponding data is named `wine_f.csv`). Look at each of these files and use `pd.read_csv()` or `pd.read_excel()` to load these data so that they resemble the following:\n",
    "\n",
    "|   | Grape | Origin | Alcohol | pH | Color | Aroma |\n",
    "| :---: | :---: | :---: | :---: | :---: | :---: | :---: |\n",
    "| **0** |  Chardonnay | Australia | 14.23 | 3.51 | White | Floral |\n",
    "| **1** |  Pinot Grigio | Italy | 13.20 | 3.30 | White | Fruity |\n",
    "| **2** |  Pinot Blanc | France | 13.16 | 3.16 | White | Citrus |\n",
    "| **3** |  Shiraz | Chile | 14.91 | 3.39 | Red | Berry |\n",
    "| **4** |  Malbec | Argentina | 13.83 | 3.28 | Red | Fruity |\n"
   ]
  },
  {
   "cell_type": "markdown",
   "metadata": {
    "nbgrader": {
     "grade": false,
     "grade_id": "cell-e03c7895f84e71eb",
     "locked": true,
     "schema_version": 3,
     "solution": false,
     "task": false
    }
   },
   "source": [
    "**Question 1(a)**  <br> {points: 1}   \n",
    "\n",
    "Load in the file named `wine_a.csv` using the appropriate verb `pd.read_csv()` or `pd.read_excel()` and arguments and save it as an object named `df_1a`."
   ]
  },
  {
   "cell_type": "code",
   "execution_count": 2,
   "metadata": {
    "nbgrader": {
     "grade": false,
     "grade_id": "cell-e60ff99336d4d01a",
     "locked": false,
     "schema_version": 3,
     "solution": true,
     "task": false
    }
   },
   "outputs": [],
   "source": [
    "df_1a = None\n",
    "\n",
    "### BEGIN SOLUTION\n",
    "# no special considerations here\n",
    "df_1a = pd.read_csv('data/wine_a.csv')\n",
    "### END SOLUTION\n",
    "\n"
   ]
  },
  {
   "cell_type": "code",
   "execution_count": 3,
   "metadata": {
    "nbgrader": {
     "grade": true,
     "grade_id": "cell-4931d4895213ff2d",
     "locked": true,
     "points": 1,
     "schema_version": 3,
     "solution": false,
     "task": false
    }
   },
   "outputs": [
    {
     "data": {
      "text/plain": [
       "'success'"
      ]
     },
     "execution_count": 3,
     "metadata": {},
     "output_type": "execute_result"
    }
   ],
   "source": [
    "t.test_1a(df_1a)"
   ]
  },
  {
   "cell_type": "markdown",
   "metadata": {
    "nbgrader": {
     "grade": false,
     "grade_id": "cell-172aa7d150558a9d",
     "locked": true,
     "schema_version": 3,
     "solution": false,
     "task": false
    }
   },
   "source": [
    "**Question 1(b)**  <br> {points: 1}   \n",
    "\n",
    "Load in the file named `wine_b.csv` using the appropriate verb `pd.read_csv()` or `pd.read_excel()` and arguments and save it as an object named `df_1b`."
   ]
  },
  {
   "cell_type": "code",
   "execution_count": 4,
   "metadata": {
    "nbgrader": {
     "grade": false,
     "grade_id": "cell-97c01391ad25a043",
     "locked": false,
     "schema_version": 3,
     "solution": true,
     "task": false
    }
   },
   "outputs": [],
   "source": [
    "df_1b = None\n",
    "\n",
    "### BEGIN SOLUTION\n",
    "# Need to skip first row\n",
    "df_1b = pd.read_csv('data/wine_b.csv',\n",
    "                    header=1)\n",
    "\n",
    "### END SOLUTION\n"
   ]
  },
  {
   "cell_type": "code",
   "execution_count": 5,
   "metadata": {
    "nbgrader": {
     "grade": true,
     "grade_id": "cell-09e0d6bb4c9185dd",
     "locked": true,
     "points": 1,
     "schema_version": 3,
     "solution": false,
     "task": false
    }
   },
   "outputs": [
    {
     "data": {
      "text/plain": [
       "'success'"
      ]
     },
     "execution_count": 5,
     "metadata": {},
     "output_type": "execute_result"
    }
   ],
   "source": [
    "t.test_1b(df_1b)"
   ]
  },
  {
   "cell_type": "markdown",
   "metadata": {
    "nbgrader": {
     "grade": false,
     "grade_id": "cell-874c84b5d17a9413",
     "locked": true,
     "schema_version": 3,
     "solution": false,
     "task": false
    }
   },
   "source": [
    "**Question 1(c)**  <br> {points: 1}   \n",
    "\n",
    "Load in the file named `wine_c.csv` using the appropriate verb `pd.read_csv()` or `pd.read_excel()` and arguments and save it as an object named `df_1c`."
   ]
  },
  {
   "cell_type": "code",
   "execution_count": 6,
   "metadata": {
    "nbgrader": {
     "grade": false,
     "grade_id": "cell-5bcbd26df73e99b7",
     "locked": false,
     "schema_version": 3,
     "solution": true,
     "task": false
    }
   },
   "outputs": [],
   "source": [
    "df_1c = None\n",
    "\n",
    "### BEGIN SOLUTION\n",
    "# Need to read only first 5 rows\n",
    "df_1c = pd.read_csv('data/wine_c.csv',\n",
    "                    nrows=5)\n",
    "\n",
    "### END SOLUTION\n",
    "\n"
   ]
  },
  {
   "cell_type": "code",
   "execution_count": 7,
   "metadata": {
    "nbgrader": {
     "grade": true,
     "grade_id": "cell-76b78585dc5069f4",
     "locked": true,
     "points": 1,
     "schema_version": 3,
     "solution": false,
     "task": false
    }
   },
   "outputs": [
    {
     "data": {
      "text/plain": [
       "'success'"
      ]
     },
     "execution_count": 7,
     "metadata": {},
     "output_type": "execute_result"
    }
   ],
   "source": [
    "t.test_1c(df_1c)"
   ]
  },
  {
   "cell_type": "markdown",
   "metadata": {},
   "source": [
    "**Question 1(d)**  <br> {points: 1}   \n",
    "\n",
    "Load in the file named `wine_d.csv` using the appropriate verb `pd.read_csv()` or `pd.read_excel()` and arguments and save it as an object named `df_1d`."
   ]
  },
  {
   "cell_type": "code",
   "execution_count": 8,
   "metadata": {
    "nbgrader": {
     "grade": false,
     "grade_id": "cell-84c10d85922e4413",
     "locked": false,
     "schema_version": 3,
     "solution": true,
     "task": false
    }
   },
   "outputs": [],
   "source": [
    "df_1d = None\n",
    "\n",
    "### BEGIN SOLUTION\n",
    "# Need to specify tab-delimited\n",
    "df_1d = pd.read_csv('data/wine_d.txt',\n",
    "                    delimiter='\\t')\n",
    "### END SOLUTION\n",
    "\n"
   ]
  },
  {
   "cell_type": "code",
   "execution_count": 9,
   "metadata": {
    "nbgrader": {
     "grade": true,
     "grade_id": "cell-463aaa00c2184211",
     "locked": true,
     "points": 1,
     "schema_version": 3,
     "solution": false,
     "task": false
    }
   },
   "outputs": [
    {
     "data": {
      "text/plain": [
       "'success'"
      ]
     },
     "execution_count": 9,
     "metadata": {},
     "output_type": "execute_result"
    }
   ],
   "source": [
    "t.test_1d(df_1d)"
   ]
  },
  {
   "cell_type": "markdown",
   "metadata": {
    "nbgrader": {
     "grade": false,
     "grade_id": "cell-92965dc705ed912f",
     "locked": true,
     "schema_version": 3,
     "solution": false,
     "task": false
    }
   },
   "source": [
    "**Question 1(e)**  <br> {points: 1}   \n",
    "\n",
    "Load in the file named `wine_e.csv` using the appropriate verb `pd.read_csv()` or `pd.read_excel()` and arguments and save it as an object named `df_1e`."
   ]
  },
  {
   "cell_type": "code",
   "execution_count": 10,
   "metadata": {
    "nbgrader": {
     "grade": false,
     "grade_id": "cell-246416508bc9f501",
     "locked": false,
     "schema_version": 3,
     "solution": true,
     "task": false
    }
   },
   "outputs": [],
   "source": [
    "df_1e = None\n",
    "\n",
    "### BEGIN SOLUTION\n",
    "# Need to use only the first 6 columns\n",
    "df_1e = pd.read_csv('data/wine_e.csv',\n",
    "                    usecols=[0, 1, 2, 3, 4, 5])\n",
    "\n",
    "### END SOLUTION\n"
   ]
  },
  {
   "cell_type": "code",
   "execution_count": 11,
   "metadata": {
    "nbgrader": {
     "grade": true,
     "grade_id": "cell-1d4d04b4dfe42be6",
     "locked": true,
     "points": 1,
     "schema_version": 3,
     "solution": false,
     "task": false
    }
   },
   "outputs": [
    {
     "data": {
      "text/plain": [
       "'Success'"
      ]
     },
     "execution_count": 11,
     "metadata": {},
     "output_type": "execute_result"
    }
   ],
   "source": [
    "assert 'df_1e' in locals(), \"Your answer should be named 'df_1e'\"\n",
    "\n",
    "# Note that this test has been hidden intentionally.\n",
    "# It will provide no feedback as to the correctness of your answers.\n",
    "# Thus, it is up to you to decide if your answer is sufficiently correct.\n",
    "### BEGIN HIDDEN TESTS\n",
    "\n",
    "def hidden_1(answer):\n",
    "    assert not answer is None, \"Your answer does not exist. Have you passed in the correct variable?\"\n",
    "    assert answer.shape[0] == 5 and answer.shape[1] == 6, \"Your dataframe dimensions are incorrect. Are you using the read_csv or read_excel function to load the data?\"\n",
    "    msg = \"Your dataframe contains the incorrect columns. Are you using the use_cols parameter? \\\n",
    "    \\nExpected ['Grape', 'Origin', 'Alcohol', 'pH', 'Colour','Aroma'], but got {0}\".format(\n",
    "        list(answer.columns))\n",
    "    assert sorted(list(answer.columns)) == sorted(\n",
    "        ['Grape', 'Origin', 'Alcohol', 'pH', 'Colour', 'Aroma']), msg\n",
    "    assert \"Chardonnay\" in list(\n",
    "        answer.Grape\n",
    "    ), \"Some values in your dataframe are incorrect. Do you have the correct dataframe?\"\n",
    "    assert sum(\n",
    "        list(answer.Alcohol)\n",
    "    ) == 69.33, \"Some values in your dataframe are incorrect. Do you have the correct dataframe?\"\n",
    "    return(\"Success\")\n",
    "\n",
    "hidden_1(df_1e)\n",
    "### END HIDDEN TESTS"
   ]
  },
  {
   "cell_type": "markdown",
   "metadata": {
    "nbgrader": {
     "grade": false,
     "grade_id": "cell-d863d56848a6cef5",
     "locked": true,
     "schema_version": 3,
     "solution": false,
     "task": false
    }
   },
   "source": [
    "**Question 1(f)**  <br> {points: 1}   \n",
    "\n",
    "Load in the file named `wine_f.csv` using the appropriate verb `pd.read_csv()` or `pd.read_excel()` and arguments and save it as an object named `df_1f`."
   ]
  },
  {
   "cell_type": "code",
   "execution_count": 12,
   "metadata": {
    "nbgrader": {
     "grade": false,
     "grade_id": "cell-9a0f33c3a9ff9592",
     "locked": false,
     "schema_version": 3,
     "solution": true,
     "task": false
    }
   },
   "outputs": [],
   "source": [
    "df_1f = None\n",
    "\n",
    "### BEGIN SOLUTION\n",
    "# Need to use pd.read_csv() with tab delimiter\n",
    "df_1f = pd.read_csv('data/wine_f.txt',\n",
    "                  delimiter='\\t',\n",
    "                  header=1,\n",
    "                  nrows=5,\n",
    "                  usecols=[1, 2, 3, 4, 5, 6])\n",
    "\n",
    "### END SOLUTION\n"
   ]
  },
  {
   "cell_type": "code",
   "execution_count": 13,
   "metadata": {
    "nbgrader": {
     "grade": true,
     "grade_id": "cell-321bd65f6db7764e",
     "locked": true,
     "points": 1,
     "schema_version": 3,
     "solution": false,
     "task": false
    }
   },
   "outputs": [
    {
     "data": {
      "text/plain": [
       "'success'"
      ]
     },
     "execution_count": 13,
     "metadata": {},
     "output_type": "execute_result"
    }
   ],
   "source": [
    "t.test_1f(df_1f)"
   ]
  },
  {
   "cell_type": "markdown",
   "metadata": {
    "nbgrader": {
     "grade": false,
     "grade_id": "cell-ba5bf50b71f92af8",
     "locked": true,
     "schema_version": 3,
     "solution": false,
     "task": false
    }
   },
   "source": [
    "**Question 1(g)**  <br> {points: 1}   \n",
    "\n",
    "Load in the file named `wine_g.csv` using the appropriate verb `pd.read_csv()` or `pd.read_excel()` and arguments and save it as an object named `df_1g`."
   ]
  },
  {
   "cell_type": "code",
   "execution_count": 14,
   "metadata": {
    "nbgrader": {
     "grade": false,
     "grade_id": "cell-36bc923bb358d123",
     "locked": false,
     "schema_version": 3,
     "solution": true,
     "task": false
    }
   },
   "outputs": [],
   "source": [
    "df_1g = None\n",
    "\n",
    "### BEGIN SOLUTION\n",
    "# Need to use pd.read_excel()\n",
    "df_1g = pd.read_excel('data/wine_g.xlsx')\n",
    "\n",
    "### END SOLUTION\n"
   ]
  },
  {
   "cell_type": "code",
   "execution_count": 15,
   "metadata": {
    "nbgrader": {
     "grade": true,
     "grade_id": "cell-bdebf9baa0b94dde",
     "locked": true,
     "points": 1,
     "schema_version": 3,
     "solution": false,
     "task": false
    }
   },
   "outputs": [
    {
     "data": {
      "text/plain": [
       "'success'"
      ]
     },
     "execution_count": 15,
     "metadata": {},
     "output_type": "execute_result"
    }
   ],
   "source": [
    "t.test_1g(df_1g)"
   ]
  },
  {
   "cell_type": "markdown",
   "metadata": {},
   "source": [
    "**Question 1(h)**  <br> {points: 1}   \n",
    "\n",
    "Load in the file named `wine_h.csv` using the appropriate verb `pd.read_csv()` or `pd.read_excel()` and arguments and save it as an object named `df_1h`."
   ]
  },
  {
   "cell_type": "code",
   "execution_count": 16,
   "metadata": {
    "nbgrader": {
     "grade": false,
     "grade_id": "cell-962b21f176ed873e",
     "locked": false,
     "schema_version": 3,
     "solution": true,
     "task": false
    }
   },
   "outputs": [],
   "source": [
    "df_1h = None\n",
    "\n",
    "### BEGIN SOLUTION\n",
    "\n",
    "# Need to use pd.read_excel() and specify sheet name\n",
    "df_1h = pd.read_excel('data/wine_h.xlsx',\n",
    "                    sheet_name='WINE')\n",
    "### END SOLUTION\n",
    "\n"
   ]
  },
  {
   "cell_type": "code",
   "execution_count": 17,
   "metadata": {
    "nbgrader": {
     "grade": true,
     "grade_id": "cell-b7b92ccaceee0a48",
     "locked": true,
     "points": 1,
     "schema_version": 3,
     "solution": false,
     "task": false
    }
   },
   "outputs": [
    {
     "data": {
      "text/plain": [
       "'success'"
      ]
     },
     "execution_count": 17,
     "metadata": {},
     "output_type": "execute_result"
    }
   ],
   "source": [
    "t.test_1h(df_1h)"
   ]
  },
  {
   "cell_type": "markdown",
   "metadata": {
    "nbgrader": {
     "grade": false,
     "grade_id": "cell-a42e2cf6a31409fd",
     "locked": true,
     "schema_version": 3,
     "solution": false,
     "task": false
    }
   },
   "source": [
    "\n",
    "**Question 1(i)**  <br> {points: 1}   \n",
    "\n",
    "Pandas can also load files directly using a url. Let's explore this functionality using a simple dataset showing the number of people that immigrate to Canada from the US and Britain located [here](https://raw.githubusercontent.com/plotly/datasets/master/Move%20to%20Canada.csv).\n",
    "\n",
    "Read the 'Move to Canada' .csv file using `pd.read_csv()` and store the dataframe as the variable `df`."
   ]
  },
  {
   "cell_type": "code",
   "execution_count": 18,
   "metadata": {
    "nbgrader": {
     "grade": false,
     "grade_id": "cell-293da28cdee572c7",
     "locked": false,
     "schema_version": 3,
     "solution": true,
     "task": false
    }
   },
   "outputs": [],
   "source": [
    "df = None\n",
    "\n",
    "### BEGIN SOLUTION\n",
    "url = 'https://raw.githubusercontent.com/plotly/datasets/master/Move%20to%20Canada.csv'\n",
    "df = pd.read_csv(url)\n",
    "### END SOLUTION "
   ]
  },
  {
   "cell_type": "code",
   "execution_count": 19,
   "metadata": {
    "nbgrader": {
     "grade": true,
     "grade_id": "cell-645f7dcf97036ef7",
     "locked": true,
     "points": 1,
     "schema_version": 3,
     "solution": false,
     "task": false
    }
   },
   "outputs": [
    {
     "data": {
      "text/plain": [
       "'success'"
      ]
     },
     "execution_count": 19,
     "metadata": {},
     "output_type": "execute_result"
    }
   ],
   "source": [
    "t.test_1i(df)"
   ]
  },
  {
   "cell_type": "markdown",
   "metadata": {
    "nbgrader": {
     "grade": false,
     "grade_id": "cell-bb9d8c6a927fafb3",
     "locked": true,
     "schema_version": 3,
     "solution": false,
     "task": false
    }
   },
   "source": [
    "## 2. Vancouver Street Tree dataset <a name='2.6'></a>\n",
    "\n",
    "The City of Vancouver, nicknamed [Raincouver](https://blogs.ubc.ca/camdrohan/2012/08/14/the-truth-about-raincouver/) or [Raincity](https://en.wikipedia.org/wiki/Nicknames_of_Vancouver) surprises many non-residents by the sheer quantity of rain it receives. To locals, this is simply the expectations of living in a rainforest. The rainfall mixed with the temperate climate provides the perfect environment to maintain numerous species of trees across the city. Every year, Vancouver hosts a [cherry blossom festival](https://www.vcbf.ca/)  where people can take walks to view the blossoming cherry trees across the city,  post cherry blossom photos and attend a Cherry Jam Concert. People more interested in grandeur can explore the [giants in Stanley Park](https://www.insidevancouver.ca/2019/06/27/where-to-see-big-trees-in-vancouver/). \n",
    "In any case, The city has provided open data to all of Vancouver's street trees. The data includes the following:\n",
    "\n",
    "\n",
    "\n",
    "-  TREE_ID\n",
    "- CIVIC_NUMBER - Street number\n",
    "- STD_STREET - Street name\n",
    "- GENUS_NAME \n",
    "- SPECIES_NAME \n",
    "- CULTIVAR_NAME \n",
    "- COMMON_NAME \n",
    "- ASSIGNED - Indicates whether the address is made up to associate the tree with a nearby  lot (Y=Yes or N=No)\n",
    "- ROOT_BARRIER - Root barrier installed (Y = Yes, N = No)\n",
    "- PLANT_AREA - B = behind sidewalk, G = in tree grate, N = no sidewalk, C = cutout, a number  indicates boulevard width in feet\n",
    "- ON_STREET_BLOCK\n",
    "- ON_STREET\n",
    "- NEIGHBOURHOOD_NAME \n",
    "- STREET_SIDE_NAME - The street side which the tree is physically located on (Even, Odd or Median  (Med))\n",
    "- HEIGHT_RANGE_ID - 0-10 for every 10 feet (e.g., 0 = 0-10 ft, 1 = 10-20 ft, 2 = 20-30 ft, and10 = 100+ ft)\n",
    "- DIAMETER - in inches\n",
    "- CURB - Curb presence (Y = Yes, N = No)\n",
    "- DATE_PLANTED \n",
    "- Geom   \n"
   ]
  },
  {
   "cell_type": "markdown",
   "metadata": {
    "nbgrader": {
     "grade": false,
     "grade_id": "cell-244286481412d7ec",
     "locked": true,
     "schema_version": 3,
     "solution": false,
     "task": false
    }
   },
   "source": [
    "**Question 2(a)**  <br> {points: 1}  \n",
    "\n",
    "Load the `street-trees.csv` dataset into a pandas dataframe named `trees`.     \n",
    "_Hint: How is your file delimited?_"
   ]
  },
  {
   "cell_type": "code",
   "execution_count": 20,
   "metadata": {
    "nbgrader": {
     "grade": false,
     "grade_id": "cell-7a1b3cebb9d471e8",
     "locked": false,
     "schema_version": 3,
     "solution": true,
     "task": false
    }
   },
   "outputs": [],
   "source": [
    "trees = None\n",
    "\n",
    "### BEGIN SOLUTION\n",
    "trees = pd.read_csv('data/street-trees.csv',delimiter=';')\n",
    "### END SOLUTION "
   ]
  },
  {
   "cell_type": "code",
   "execution_count": 21,
   "metadata": {
    "nbgrader": {
     "grade": true,
     "grade_id": "cell-9483fdf964a8582a",
     "locked": true,
     "points": 1,
     "schema_version": 3,
     "solution": false,
     "task": false
    }
   },
   "outputs": [
    {
     "data": {
      "text/plain": [
       "'success'"
      ]
     },
     "execution_count": 21,
     "metadata": {},
     "output_type": "execute_result"
    }
   ],
   "source": [
    "t.test_2a(trees)"
   ]
  },
  {
   "cell_type": "markdown",
   "metadata": {
    "nbgrader": {
     "grade": false,
     "grade_id": "cell-f0579e8d09b98bec",
     "locked": true,
     "schema_version": 3,
     "solution": false,
     "task": false
    }
   },
   "source": [
    "**Question 2(b)**  <br> {points: 1}  \n",
    "\n",
    "Create a new column named `DIAMETER_CM` that contains the each tree's diameter in cm. \n",
    "Don't forget to save the dataframe as the object `trees` to maintain the changes.    \n",
    "_Note that 1 inch = 2.54cm._\n"
   ]
  },
  {
   "cell_type": "code",
   "execution_count": 22,
   "metadata": {
    "nbgrader": {
     "grade": false,
     "grade_id": "cell-d76b48ee4be626ca",
     "locked": false,
     "schema_version": 3,
     "solution": true,
     "task": false
    }
   },
   "outputs": [],
   "source": [
    "CM_PER_INCH = 2.54\n",
    "# trees = trees.assign(...)\n",
    "\n",
    "### BEGIN SOLUTION\n",
    "trees = trees.assign(DIAMETER_CM = trees['DIAMETER'] * CM_PER_INCH)\n",
    "### END SOLUTION "
   ]
  },
  {
   "cell_type": "code",
   "execution_count": 23,
   "metadata": {
    "nbgrader": {
     "grade": true,
     "grade_id": "cell-0436a6dbfeca97e4",
     "locked": true,
     "points": 1,
     "schema_version": 3,
     "solution": false,
     "task": false
    }
   },
   "outputs": [
    {
     "data": {
      "text/plain": [
       "'success'"
      ]
     },
     "execution_count": 23,
     "metadata": {},
     "output_type": "execute_result"
    }
   ],
   "source": [
    "t.test_2b(trees)"
   ]
  },
  {
   "cell_type": "markdown",
   "metadata": {
    "nbgrader": {
     "grade": false,
     "grade_id": "cell-39653de05896b4d3",
     "locked": true,
     "schema_version": 3,
     "solution": false,
     "task": false
    }
   },
   "source": [
    "**Question 2(c)**  <br> {points: 1}  \n",
    "Filter so we can concentrate our attention on the cherry trees - specifically species `SERRULATA`.   \n",
    "Save the resulting dataframe in an object called cherry.\n"
   ]
  },
  {
   "cell_type": "code",
   "execution_count": 24,
   "metadata": {
    "nbgrader": {
     "grade": false,
     "grade_id": "cell-a607c416f05888c4",
     "locked": false,
     "schema_version": 3,
     "solution": true,
     "task": false
    }
   },
   "outputs": [],
   "source": [
    "# cherry = trees[...[...] == ...]\n",
    "\n",
    "### BEGIN SOLUTION\n",
    "cherry = trees[trees['SPECIES_NAME'] == 'SERRULATA']\n",
    "### END SOLUTION "
   ]
  },
  {
   "cell_type": "code",
   "execution_count": 25,
   "metadata": {
    "nbgrader": {
     "grade": true,
     "grade_id": "cell-432b2048ee01b7a3",
     "locked": true,
     "points": 1,
     "schema_version": 3,
     "solution": false,
     "task": false
    }
   },
   "outputs": [
    {
     "data": {
      "text/plain": [
       "'success'"
      ]
     },
     "execution_count": 25,
     "metadata": {},
     "output_type": "execute_result"
    }
   ],
   "source": [
    "t.test_2c(cherry)"
   ]
  },
  {
   "cell_type": "markdown",
   "metadata": {
    "nbgrader": {
     "grade": false,
     "grade_id": "cell-479dd2af8dc3d5d6",
     "locked": true,
     "schema_version": 3,
     "solution": false,
     "task": false
    }
   },
   "source": [
    "**Question 2(d)**  <br> {points: 1}  \n",
    "\n",
    "Group the cherry trees by their common name. Save the results in an object called `cherry_group`."
   ]
  },
  {
   "cell_type": "code",
   "execution_count": 26,
   "metadata": {
    "nbgrader": {
     "grade": false,
     "grade_id": "cell-6cece0b23a120a40",
     "locked": false,
     "schema_version": 3,
     "solution": true,
     "task": false
    }
   },
   "outputs": [],
   "source": [
    "cherry_group = None \n",
    "\n",
    "### BEGIN SOLUTION\n",
    "cherry_group = cherry.groupby('COMMON_NAME')\n",
    "### END SOLUTION "
   ]
  },
  {
   "cell_type": "code",
   "execution_count": 27,
   "metadata": {
    "nbgrader": {
     "grade": true,
     "grade_id": "cell-113ba90db47fd897",
     "locked": true,
     "points": 1,
     "schema_version": 3,
     "solution": false,
     "task": false
    }
   },
   "outputs": [
    {
     "data": {
      "text/plain": [
       "'success'"
      ]
     },
     "execution_count": 27,
     "metadata": {},
     "output_type": "execute_result"
    }
   ],
   "source": [
    "t.test_2d(cherry_group)"
   ]
  },
  {
   "cell_type": "markdown",
   "metadata": {
    "nbgrader": {
     "grade": false,
     "grade_id": "cell-a53aa500756a38ac",
     "locked": true,
     "schema_version": 3,
     "solution": false,
     "task": false
    }
   },
   "source": [
    "**Question 2(e)**  <br> {points: 1}  \n",
    "\n",
    "For each type of cherry tree (`COMMON_NAME`) find the average diameter in cm and the number of the cherry trees for that cherry tree type.   \n",
    "Name the new dataframe as `cherry_stats`.    \n",
    "*Hint: Your dataframe should have the shape (16, 2).*     "
   ]
  },
  {
   "cell_type": "code",
   "execution_count": 28,
   "metadata": {
    "nbgrader": {
     "grade": false,
     "grade_id": "cell-23e8676185b31137",
     "locked": false,
     "schema_version": 3,
     "solution": true,
     "task": false
    }
   },
   "outputs": [
    {
     "data": {
      "text/html": [
       "<div>\n",
       "<style scoped>\n",
       "    .dataframe tbody tr th:only-of-type {\n",
       "        vertical-align: middle;\n",
       "    }\n",
       "\n",
       "    .dataframe tbody tr th {\n",
       "        vertical-align: top;\n",
       "    }\n",
       "\n",
       "    .dataframe thead th {\n",
       "        text-align: right;\n",
       "    }\n",
       "</style>\n",
       "<table border=\"1\" class=\"dataframe\">\n",
       "  <thead>\n",
       "    <tr style=\"text-align: right;\">\n",
       "      <th></th>\n",
       "      <th>mean</th>\n",
       "      <th>count</th>\n",
       "    </tr>\n",
       "    <tr>\n",
       "      <th>COMMON_NAME</th>\n",
       "      <th></th>\n",
       "      <th></th>\n",
       "    </tr>\n",
       "  </thead>\n",
       "  <tbody>\n",
       "    <tr>\n",
       "      <th>ACCOLADE CHERRY</th>\n",
       "      <td>52.768500</td>\n",
       "      <td>60</td>\n",
       "    </tr>\n",
       "    <tr>\n",
       "      <th>AMANOGAWA JAPANESE CHERRY</th>\n",
       "      <td>21.638559</td>\n",
       "      <td>68</td>\n",
       "    </tr>\n",
       "    <tr>\n",
       "      <th>CHEALS WEEPING CHERRY</th>\n",
       "      <td>8.128000</td>\n",
       "      <td>5</td>\n",
       "    </tr>\n",
       "    <tr>\n",
       "      <th>GREAT WHITE CHERRY</th>\n",
       "      <td>49.247778</td>\n",
       "      <td>9</td>\n",
       "    </tr>\n",
       "    <tr>\n",
       "      <th>JAPANESE FLOWERING CHERRY</th>\n",
       "      <td>42.627791</td>\n",
       "      <td>474</td>\n",
       "    </tr>\n",
       "    <tr>\n",
       "      <th>KWANZAN FLOWERING CHERRY</th>\n",
       "      <td>45.734833</td>\n",
       "      <td>10540</td>\n",
       "    </tr>\n",
       "    <tr>\n",
       "      <th>MIKURUMA-GAESHI CHERRY</th>\n",
       "      <td>40.640000</td>\n",
       "      <td>1</td>\n",
       "    </tr>\n",
       "    <tr>\n",
       "      <th>MIYAKO CHERRY</th>\n",
       "      <td>42.291000</td>\n",
       "      <td>2</td>\n",
       "    </tr>\n",
       "    <tr>\n",
       "      <th>PINK PERFECTION CHERRY</th>\n",
       "      <td>47.896517</td>\n",
       "      <td>522</td>\n",
       "    </tr>\n",
       "    <tr>\n",
       "      <th>SEIBOLDI CHERRY</th>\n",
       "      <td>43.499741</td>\n",
       "      <td>170</td>\n",
       "    </tr>\n",
       "    <tr>\n",
       "      <th>SHIROFUGEN CHERRY</th>\n",
       "      <td>20.795648</td>\n",
       "      <td>369</td>\n",
       "    </tr>\n",
       "    <tr>\n",
       "      <th>SHIROTAE(MT FUJI) CHERRY</th>\n",
       "      <td>34.349267</td>\n",
       "      <td>225</td>\n",
       "    </tr>\n",
       "    <tr>\n",
       "      <th>SHOGETSU JAPANESE CHERRY</th>\n",
       "      <td>71.882000</td>\n",
       "      <td>1</td>\n",
       "    </tr>\n",
       "    <tr>\n",
       "      <th>SNOW GOOSE CHERRY</th>\n",
       "      <td>8.158788</td>\n",
       "      <td>33</td>\n",
       "    </tr>\n",
       "    <tr>\n",
       "      <th>UKON JAPANESE CHERRY</th>\n",
       "      <td>43.817343</td>\n",
       "      <td>813</td>\n",
       "    </tr>\n",
       "    <tr>\n",
       "      <th>WEEPING JAPANESE CHERRY</th>\n",
       "      <td>59.700410</td>\n",
       "      <td>61</td>\n",
       "    </tr>\n",
       "  </tbody>\n",
       "</table>\n",
       "</div>"
      ],
      "text/plain": [
       "                                mean  count\n",
       "COMMON_NAME                                \n",
       "ACCOLADE CHERRY            52.768500     60\n",
       "AMANOGAWA JAPANESE CHERRY  21.638559     68\n",
       "CHEALS WEEPING CHERRY       8.128000      5\n",
       "GREAT WHITE CHERRY         49.247778      9\n",
       "JAPANESE FLOWERING CHERRY  42.627791    474\n",
       "KWANZAN FLOWERING CHERRY   45.734833  10540\n",
       "MIKURUMA-GAESHI CHERRY     40.640000      1\n",
       "MIYAKO CHERRY              42.291000      2\n",
       "PINK PERFECTION CHERRY     47.896517    522\n",
       "SEIBOLDI CHERRY            43.499741    170\n",
       "SHIROFUGEN CHERRY          20.795648    369\n",
       "SHIROTAE(MT FUJI) CHERRY   34.349267    225\n",
       "SHOGETSU JAPANESE CHERRY   71.882000      1\n",
       "SNOW GOOSE CHERRY           8.158788     33\n",
       "UKON JAPANESE CHERRY       43.817343    813\n",
       "WEEPING JAPANESE CHERRY    59.700410     61"
      ]
     },
     "execution_count": 28,
     "metadata": {},
     "output_type": "execute_result"
    }
   ],
   "source": [
    "# cherry_stats = (...\n",
    "#                 .agg(...),\n",
    "#                 .loc[...])\n",
    "\n",
    "### BEGIN SOLUTION\n",
    "cherry_stats = (cherry.groupby('COMMON_NAME')\n",
    "                .agg(['mean', 'count'])\n",
    "                .loc[:,'DIAMETER_CM'])\n",
    "cherry_stats\n",
    "### END SOLUTION "
   ]
  },
  {
   "cell_type": "code",
   "execution_count": 29,
   "metadata": {
    "nbgrader": {
     "grade": true,
     "grade_id": "cell-e05a3d9da4ed3d5c",
     "locked": true,
     "points": 1,
     "schema_version": 3,
     "solution": false,
     "task": false
    }
   },
   "outputs": [
    {
     "data": {
      "text/plain": [
       "'success'"
      ]
     },
     "execution_count": 29,
     "metadata": {},
     "output_type": "execute_result"
    }
   ],
   "source": [
    "t.test_2e(cherry_stats)"
   ]
  },
  {
   "cell_type": "markdown",
   "metadata": {
    "nbgrader": {
     "grade": false,
     "grade_id": "cell-322c8142b4c82755",
     "locked": true,
     "schema_version": 3,
     "solution": false,
     "task": false
    }
   },
   "source": [
    "**Question 2(f)**  <br> {points: 1}  \n",
    "\n",
    "Graph the mean diameter of `cherry_stats`.  Sort the values in ascending order before you use graph your results. Make sure you add a discriptive title and label the y-axis.        \n",
    "Save the plot in an object called `cherry_graph`.   "
   ]
  },
  {
   "cell_type": "code",
   "execution_count": 34,
   "metadata": {
    "nbgrader": {
     "grade": false,
     "grade_id": "cell-d27bbe1f8b0c7834",
     "locked": false,
     "schema_version": 3,
     "solution": true,
     "task": false
    }
   },
   "outputs": [],
   "source": [
    "### BEGIN SOLUTION\n",
    "alt.data_transformers.disable_max_rows()\n",
    "cherry_graph = alt.Chart(cherry).mark_bar().encode(\n",
    "    x=alt.X('COMMON_NAME', sort=\"y\"), \n",
    "    y=alt.Y('mean(DIAMETER):Q')).properties(\n",
    "    title=\"Mean tree diameter of different cherry species\")\n",
    "### END SOLUTION"
   ]
  },
  {
   "cell_type": "code",
   "execution_count": 35,
   "metadata": {
    "nbgrader": {
     "grade": true,
     "grade_id": "cell-f58346aa6368a2f3",
     "locked": true,
     "points": 1,
     "schema_version": 3,
     "solution": false,
     "task": false
    }
   },
   "outputs": [
    {
     "data": {
      "text/plain": [
       "'success'"
      ]
     },
     "execution_count": 35,
     "metadata": {},
     "output_type": "execute_result"
    }
   ],
   "source": [
    "t.test_2f(cherry_graph)"
   ]
  },
  {
   "cell_type": "markdown",
   "metadata": {
    "nbgrader": {
     "grade": false,
     "grade_id": "cell-fe83693522b553c9",
     "locked": true,
     "schema_version": 3,
     "solution": false,
     "task": false
    }
   },
   "source": [
    "## 3. The Titanic dataset <a name='2.6'></a>\n",
    "\n",
    "The sinking of the RMS Titanic is one of the most infamous shipwrecks in history.  On April 15, 1912, during her maiden voyage, the Titanic sank after colliding with an iceberg. The file *titanic.csv* contains data of 1309 passengers who were on the ship. For each passenger, the following data are recorded:\n",
    "* survival - Survival (0 = No; 1 = Yes)\n",
    "* class - Passenger Class (1 = 1st; 2 = 2nd; 3 = 3rd)\n",
    "* name - Name\n",
    "* sex - Sex\n",
    "* age - Age\n",
    "* sibsp - Number of Siblings/Spouses Aboard\n",
    "* parch - Number of Parents/Children Aboard\n",
    "* ticket - Ticket Number\n",
    "* fare - Passenger Fare\n",
    "* cabin - Cabin\n",
    "* embarked - Port of Embarkation (C = Cherbourg; Q = Queenstown; S = Southampton)\n",
    "* boat - Lifeboat (if survived)\n",
    "* body - Body number (if did not survive and the body was recovered)\n",
    "\n",
    "***Note: many popular datasets have sex as a feature where the possible values are male and female. This representation reflects how the data were collected and is not meant to imply that, for example, gender is binary.***\n",
    "\n",
    "In this exercise, you will perform a number of wrangling operations to manipulate and extract subsets of the data."
   ]
  },
  {
   "cell_type": "markdown",
   "metadata": {
    "nbgrader": {
     "grade": false,
     "grade_id": "cell-4ad4814786bbeac5",
     "locked": true,
     "schema_version": 3,
     "solution": false,
     "task": false
    }
   },
   "source": [
    "**Question 3(a)**  <br> {points: 1}   \n",
    "\n",
    "\n",
    "Load the `titanic.csv` dataset into a pandas dataframe named `titanic_df`.     \n",
    "*Hint: Remember where we store our data*"
   ]
  },
  {
   "cell_type": "code",
   "execution_count": 36,
   "metadata": {
    "nbgrader": {
     "grade": false,
     "grade_id": "cell-6ca937ceb1f63f35",
     "locked": false,
     "schema_version": 3,
     "solution": true,
     "task": false
    }
   },
   "outputs": [],
   "source": [
    "titanic_df = None\n",
    "\n",
    "### BEGIN SOLUTION\n",
    "titanic_df = pd.read_csv('data/titanic.csv')\n",
    "### END SOLUTION "
   ]
  },
  {
   "cell_type": "code",
   "execution_count": 37,
   "metadata": {
    "nbgrader": {
     "grade": true,
     "grade_id": "cell-8b69beeeb3a63066",
     "locked": true,
     "points": 1,
     "schema_version": 3,
     "solution": false,
     "task": false
    }
   },
   "outputs": [
    {
     "data": {
      "text/plain": [
       "'success'"
      ]
     },
     "execution_count": 37,
     "metadata": {},
     "output_type": "execute_result"
    }
   ],
   "source": [
    "t.test_3a(titanic_df)"
   ]
  },
  {
   "cell_type": "markdown",
   "metadata": {
    "nbgrader": {
     "grade": false,
     "grade_id": "cell-9b0506b95147a913",
     "locked": true,
     "schema_version": 3,
     "solution": false,
     "task": false
    }
   },
   "source": [
    "**Question 3(b)**  <br> {points: 1}  \n",
    "\n",
    "\n",
    "The column names `sibsp` and `parch` are not very descriptive. Rename these columns to `siblings_spouses` and `parents_children` respectively."
   ]
  },
  {
   "cell_type": "code",
   "execution_count": 38,
   "metadata": {
    "nbgrader": {
     "grade": false,
     "grade_id": "cell-848a01803315ae81",
     "locked": false,
     "schema_version": 3,
     "solution": true,
     "task": false
    }
   },
   "outputs": [],
   "source": [
    "### BEGIN SOLUTION\n",
    "titanic_df = titanic_df.rename(columns={'sibsp': 'siblings_spouses',\n",
    "                                        'parch': 'parents_children'})\n",
    "### END SOLUTION "
   ]
  },
  {
   "cell_type": "code",
   "execution_count": 39,
   "metadata": {
    "nbgrader": {
     "grade": true,
     "grade_id": "cell-a971e94ff67950ce",
     "locked": true,
     "points": 1,
     "schema_version": 3,
     "solution": false,
     "task": false
    }
   },
   "outputs": [
    {
     "data": {
      "text/plain": [
       "'success'"
      ]
     },
     "execution_count": 39,
     "metadata": {},
     "output_type": "execute_result"
    }
   ],
   "source": [
    "t.test_3b(titanic_df)"
   ]
  },
  {
   "cell_type": "markdown",
   "metadata": {
    "nbgrader": {
     "grade": false,
     "grade_id": "cell-e5a5859cf30dfc1e",
     "locked": true,
     "schema_version": 3,
     "solution": false,
     "task": false
    }
   },
   "source": [
    "**Question 3(c)**  <br> {points: 1}  \n",
    "\n",
    "Drop the columns `body` and `cabin`, using a single line of code and save it as an object named `dropped_df`."
   ]
  },
  {
   "cell_type": "code",
   "execution_count": 40,
   "metadata": {
    "nbgrader": {
     "grade": false,
     "grade_id": "cell-d822e26557aef2f2",
     "locked": false,
     "schema_version": 3,
     "solution": true,
     "task": false
    }
   },
   "outputs": [],
   "source": [
    "dropped_df = None\n",
    "\n",
    "### BEGIN SOLUTION\n",
    "dropped_df = titanic_df.drop(columns=['body', 'cabin'])\n",
    "### END SOLUTION"
   ]
  },
  {
   "cell_type": "code",
   "execution_count": 41,
   "metadata": {
    "nbgrader": {
     "grade": true,
     "grade_id": "cell-2349fcdcc552bdd3",
     "locked": true,
     "points": 1,
     "schema_version": 3,
     "solution": false,
     "task": false
    }
   },
   "outputs": [
    {
     "data": {
      "text/plain": [
       "'success'"
      ]
     },
     "execution_count": 41,
     "metadata": {},
     "output_type": "execute_result"
    }
   ],
   "source": [
    "t.test_3c(dropped_df)"
   ]
  },
  {
   "cell_type": "markdown",
   "metadata": {
    "nbgrader": {
     "grade": false,
     "grade_id": "cell-ce3fbe9db3de426a",
     "locked": true,
     "schema_version": 3,
     "solution": false,
     "task": false
    }
   },
   "source": [
    "**Question 3(d)**  <br> {points: 1}  \n",
    "Which passengers survived (`survived = 1`) the disaster? Save the filtered dataframe in an object named `survived_titanic`. "
   ]
  },
  {
   "cell_type": "code",
   "execution_count": 42,
   "metadata": {
    "nbgrader": {
     "grade": false,
     "grade_id": "cell-58d4de705145af3c",
     "locked": false,
     "schema_version": 3,
     "solution": true,
     "task": false
    }
   },
   "outputs": [],
   "source": [
    "survived_titanic = None\n",
    "\n",
    "### BEGIN SOLUTION\n",
    "survived_titanic = titanic_df[titanic_df['survived'] == 1]\n",
    "### END SOLUTION "
   ]
  },
  {
   "cell_type": "code",
   "execution_count": 43,
   "metadata": {
    "nbgrader": {
     "grade": true,
     "grade_id": "cell-d337093c3836b042",
     "locked": true,
     "points": 2,
     "schema_version": 3,
     "solution": false,
     "task": false
    }
   },
   "outputs": [
    {
     "data": {
      "text/plain": [
       "'Success'"
      ]
     },
     "execution_count": 43,
     "metadata": {},
     "output_type": "execute_result"
    }
   ],
   "source": [
    "assert 'survived_titanic' in locals(), \"Your answer should be named 'survived_titanic'\"\n",
    "\n",
    "# Note that this test has been hidden intentionally.\n",
    "# It will provide no feedback as to the correctness of your answers.\n",
    "# Thus, it is up to you to decide if your answer is sufficiently correct.\n",
    "### BEGIN HIDDEN TESTS\n",
    "def hidden_2(answer):\n",
    "    assert not answer is None, \"Your answer does not exist. Have you passed in the correct variable?\"\n",
    "    assert sha1(str(answer.shape[0] + 9).encode('utf8')).hexdigest(\n",
    "    ) == '6d5db0e809f71a43d3bada01e4c1c4d4b501b435', \"The number of rows are incorrect. Are you selecting only survivors?\"\n",
    "    assert round(\n",
    "        sum(answer.fare)\n",
    "    ) == 24681, \"The sum of the fares is incorrect. Are you selecting only survivors?\"\n",
    "    assert round(\n",
    "        answer.age.mean()\n",
    "    ) == 29.0, \"The average survivor age is incorrect. Are you selecting only survivors?\"\n",
    "    assert \"24160\" in list(\n",
    "        answer.ticket\n",
    "    ), \"Some survivors are missing. Did you select all the survivors?\"\n",
    "    return (\"Success\")\n",
    "\n",
    "hidden_2(survived_titanic)\n",
    "### END HIDDEN TESTS"
   ]
  },
  {
   "cell_type": "markdown",
   "metadata": {
    "nbgrader": {
     "grade": false,
     "grade_id": "cell-b20311d99e2ec113",
     "locked": true,
     "schema_version": 3,
     "solution": false,
     "task": false
    }
   },
   "source": [
    "**Question 3(e)**  <br> {points: 1}  \n",
    "How many people survived the titanic?       \n",
    "Save this in an object named `survivors`."
   ]
  },
  {
   "cell_type": "code",
   "execution_count": 44,
   "metadata": {
    "nbgrader": {
     "grade": false,
     "grade_id": "cell-33a45d51a162c2aa",
     "locked": false,
     "schema_version": 3,
     "solution": true,
     "task": false
    }
   },
   "outputs": [],
   "source": [
    "survivors = None\n",
    "\n",
    "### BEGIN SOLUTION\n",
    "survivors = survived_titanic.shape[0]\n",
    "\n",
    "### END SOLUTION "
   ]
  },
  {
   "cell_type": "code",
   "execution_count": 45,
   "metadata": {
    "nbgrader": {
     "grade": true,
     "grade_id": "cell-18b12e16e1cc9d38",
     "locked": true,
     "points": 1,
     "schema_version": 3,
     "solution": false,
     "task": false
    }
   },
   "outputs": [
    {
     "data": {
      "text/plain": [
       "'success'"
      ]
     },
     "execution_count": 45,
     "metadata": {},
     "output_type": "execute_result"
    }
   ],
   "source": [
    "t.test_3e(survivors)"
   ]
  },
  {
   "cell_type": "markdown",
   "metadata": {
    "nbgrader": {
     "grade": false,
     "grade_id": "cell-3bd005b7f998837a",
     "locked": true,
     "schema_version": 3,
     "solution": false,
     "task": false
    }
   },
   "source": [
    "**Question 3(f)**  <br> {points: 1}  \n",
    "\n",
    "Which passengers were in first class and younger than 16?   \n",
    "Save the filtered dataframe in an object named `first_class_pass`. "
   ]
  },
  {
   "cell_type": "code",
   "execution_count": 46,
   "metadata": {
    "nbgrader": {
     "grade": false,
     "grade_id": "cell-3a0619ef6d2af5a2",
     "locked": false,
     "schema_version": 3,
     "solution": true,
     "task": false
    }
   },
   "outputs": [],
   "source": [
    "first_class_pass = None\n",
    "\n",
    "### BEGIN SOLUTION\n",
    "first_class_pass = titanic_df[(titanic_df['pclass'] == 1) & (titanic_df['age'] < 16)]\n",
    "### END SOLUTION "
   ]
  },
  {
   "cell_type": "code",
   "execution_count": 47,
   "metadata": {
    "nbgrader": {
     "grade": true,
     "grade_id": "cell-4ed4057ebf7bf52f",
     "locked": true,
     "points": 1,
     "schema_version": 3,
     "solution": false,
     "task": false
    }
   },
   "outputs": [
    {
     "data": {
      "text/plain": [
       "'success'"
      ]
     },
     "execution_count": 47,
     "metadata": {},
     "output_type": "execute_result"
    }
   ],
   "source": [
    "t.test_3f(first_class_pass)"
   ]
  },
  {
   "cell_type": "markdown",
   "metadata": {},
   "source": [
    "**Question 3(g)**  <br> {points: 1}  \n",
    "\n",
    "Make a new dataframe containing only the columns `age` and `fare` on the full `titanic_df` dataframe and take the mean of these columns using chaining.   \n",
    "Save it as an object named  `mean_age_fare`\n"
   ]
  },
  {
   "cell_type": "code",
   "execution_count": 48,
   "metadata": {
    "nbgrader": {
     "grade": false,
     "grade_id": "cell-2e89f890b11155df",
     "locked": false,
     "schema_version": 3,
     "solution": true,
     "task": false
    }
   },
   "outputs": [],
   "source": [
    "mean_age_fare= None \n",
    "\n",
    "### BEGIN SOLUTION\n",
    "mean_age_fare = titanic_df.loc[:, ['age', 'fare']].mean()\n",
    "### END SOLUTION "
   ]
  },
  {
   "cell_type": "code",
   "execution_count": 49,
   "metadata": {
    "nbgrader": {
     "grade": true,
     "grade_id": "cell-d73c0f21bdebe3df",
     "locked": true,
     "points": 1,
     "schema_version": 3,
     "solution": false,
     "task": false
    }
   },
   "outputs": [
    {
     "data": {
      "text/plain": [
       "'success'"
      ]
     },
     "execution_count": 49,
     "metadata": {},
     "output_type": "execute_result"
    }
   ],
   "source": [
    "t.test_3g(mean_age_fare)"
   ]
  },
  {
   "cell_type": "markdown",
   "metadata": {},
   "source": [
    "**Question 3(h)**  <br> {points: 1}  \n",
    "\n",
    "Let's make a groupby object by the column `sex`  on our full dataframe `titanic_df` and find the average value each of each column for `male` and `female` passengers.    \n",
    "Save the results in an object named `titanic_sex_mean`."
   ]
  },
  {
   "cell_type": "code",
   "execution_count": 50,
   "metadata": {
    "nbgrader": {
     "grade": false,
     "grade_id": "cell-2518084eff7a7e46",
     "locked": false,
     "schema_version": 3,
     "solution": true,
     "task": false
    }
   },
   "outputs": [
    {
     "data": {
      "text/html": [
       "<div>\n",
       "<style scoped>\n",
       "    .dataframe tbody tr th:only-of-type {\n",
       "        vertical-align: middle;\n",
       "    }\n",
       "\n",
       "    .dataframe tbody tr th {\n",
       "        vertical-align: top;\n",
       "    }\n",
       "\n",
       "    .dataframe thead th {\n",
       "        text-align: right;\n",
       "    }\n",
       "</style>\n",
       "<table border=\"1\" class=\"dataframe\">\n",
       "  <thead>\n",
       "    <tr style=\"text-align: right;\">\n",
       "      <th></th>\n",
       "      <th>pclass</th>\n",
       "      <th>survived</th>\n",
       "      <th>age</th>\n",
       "      <th>siblings_spouses</th>\n",
       "      <th>parents_children</th>\n",
       "      <th>fare</th>\n",
       "      <th>body</th>\n",
       "    </tr>\n",
       "    <tr>\n",
       "      <th>sex</th>\n",
       "      <th></th>\n",
       "      <th></th>\n",
       "      <th></th>\n",
       "      <th></th>\n",
       "      <th></th>\n",
       "      <th></th>\n",
       "      <th></th>\n",
       "    </tr>\n",
       "  </thead>\n",
       "  <tbody>\n",
       "    <tr>\n",
       "      <th>female</th>\n",
       "      <td>2.154506</td>\n",
       "      <td>0.727468</td>\n",
       "      <td>28.687071</td>\n",
       "      <td>0.652361</td>\n",
       "      <td>0.633047</td>\n",
       "      <td>46.198097</td>\n",
       "      <td>166.62500</td>\n",
       "    </tr>\n",
       "    <tr>\n",
       "      <th>male</th>\n",
       "      <td>2.372479</td>\n",
       "      <td>0.190985</td>\n",
       "      <td>30.585233</td>\n",
       "      <td>0.413998</td>\n",
       "      <td>0.247924</td>\n",
       "      <td>26.154601</td>\n",
       "      <td>160.39823</td>\n",
       "    </tr>\n",
       "  </tbody>\n",
       "</table>\n",
       "</div>"
      ],
      "text/plain": [
       "          pclass  survived        age  siblings_spouses  parents_children  \\\n",
       "sex                                                                         \n",
       "female  2.154506  0.727468  28.687071          0.652361          0.633047   \n",
       "male    2.372479  0.190985  30.585233          0.413998          0.247924   \n",
       "\n",
       "             fare       body  \n",
       "sex                           \n",
       "female  46.198097  166.62500  \n",
       "male    26.154601  160.39823  "
      ]
     },
     "execution_count": 50,
     "metadata": {},
     "output_type": "execute_result"
    }
   ],
   "source": [
    "titanic_sex_mean = None\n",
    "\n",
    "### BEGIN SOLUTION\n",
    "titanic_sex_mean = titanic_df.groupby(by='sex').mean()\n",
    "titanic_sex_mean\n",
    "### END SOLUTION "
   ]
  },
  {
   "cell_type": "code",
   "execution_count": 51,
   "metadata": {
    "nbgrader": {
     "grade": true,
     "grade_id": "cell-c59fc52c7c1f03c4",
     "locked": true,
     "points": 1,
     "schema_version": 3,
     "solution": false,
     "task": false
    }
   },
   "outputs": [
    {
     "data": {
      "text/plain": [
       "'success'"
      ]
     },
     "execution_count": 51,
     "metadata": {},
     "output_type": "execute_result"
    }
   ],
   "source": [
    "t.test_3h(titanic_sex_mean)"
   ]
  },
  {
   "cell_type": "markdown",
   "metadata": {
    "nbgrader": {
     "grade": false,
     "grade_id": "cell-6b36a8ae6a4cb5cc",
     "locked": true,
     "schema_version": 3,
     "solution": false,
     "task": false
    }
   },
   "source": [
    "**Question 3(i)**  <br> {points: 1}  \n",
    "\n",
    "To answer the question, assign the letter associated with the correct answer to a variable in the code cell below:   \n",
    "Which statement below is accurate?\n",
    "\n",
    "A. The average age of male passengers is lower than the total passenger mean age.    \n",
    "\n",
    "B. The female passenger fare average is greater than the male passenger fare average.  \n",
    "\n",
    "C. The male fare average is greater than than the total passenger fare average. \n",
    "\n",
    "\n",
    "*Answer in the cell below using the uppercase letter associated with your answer. Place your answer between `\"\"`, assign the correct answer to an object called `answer3_i`.*"
   ]
  },
  {
   "cell_type": "code",
   "execution_count": 52,
   "metadata": {
    "nbgrader": {
     "grade": false,
     "grade_id": "cell-b14e8438781ba083",
     "locked": false,
     "schema_version": 3,
     "solution": true,
     "task": false
    }
   },
   "outputs": [],
   "source": [
    "answer3_i = None\n",
    "\n",
    "### BEGIN SOLUTION\n",
    "answer3_i = \"B\"\n",
    "### END SOLUTION"
   ]
  },
  {
   "cell_type": "code",
   "execution_count": 53,
   "metadata": {
    "nbgrader": {
     "grade": true,
     "grade_id": "cell-884d987b24fb9b40",
     "locked": true,
     "points": 1,
     "schema_version": 3,
     "solution": false,
     "task": false
    }
   },
   "outputs": [
    {
     "data": {
      "text/plain": [
       "'success'"
      ]
     },
     "execution_count": 53,
     "metadata": {},
     "output_type": "execute_result"
    }
   ],
   "source": [
    "t.test_3i(answer3_i)"
   ]
  },
  {
   "cell_type": "markdown",
   "metadata": {
    "nbgrader": {
     "grade": false,
     "grade_id": "cell-d75ba40a6938c555",
     "locked": true,
     "schema_version": 3,
     "solution": false,
     "task": false
    }
   },
   "source": [
    "**Question 3(j)**  <br> {points: 1}  \n",
    "\n",
    "What was the highest and lowest fair paid by male and female passengers? Use `.agg()` and save the dataframe as object `high_low_fare`.  \n"
   ]
  },
  {
   "cell_type": "code",
   "execution_count": 54,
   "metadata": {
    "nbgrader": {
     "grade": false,
     "grade_id": "cell-01ad2d8d34762607",
     "locked": false,
     "schema_version": 3,
     "solution": true,
     "task": false
    }
   },
   "outputs": [],
   "source": [
    "high_low_fare = None \n",
    "\n",
    "### BEGIN SOLUTION\n",
    "high_low_fare = titanic_df.groupby(by='sex').agg({'fare':['max', 'min']})\n",
    "### END SOLUTION"
   ]
  },
  {
   "cell_type": "code",
   "execution_count": 55,
   "metadata": {
    "nbgrader": {
     "grade": true,
     "grade_id": "cell-5d68da022e6dfa03",
     "locked": true,
     "points": 1,
     "schema_version": 3,
     "solution": false,
     "task": false
    }
   },
   "outputs": [
    {
     "data": {
      "text/plain": [
       "'success'"
      ]
     },
     "execution_count": 55,
     "metadata": {},
     "output_type": "execute_result"
    }
   ],
   "source": [
    "t.test_3j(high_low_fare)"
   ]
  },
  {
   "cell_type": "markdown",
   "metadata": {
    "nbgrader": {
     "grade": false,
     "grade_id": "cell-590362e83d2f2604",
     "locked": true,
     "schema_version": 3,
     "solution": false,
     "task": false
    }
   },
   "source": [
    "**Question 3(k)**  <br> {points: 1}  \n",
    "\n",
    "Use chaining to obtain the name of the youngest known female passenger and save it as object `youngest_female`."
   ]
  },
  {
   "cell_type": "code",
   "execution_count": 56,
   "metadata": {
    "nbgrader": {
     "grade": false,
     "grade_id": "cell-2af735c6c0c8e9ed",
     "locked": false,
     "schema_version": 3,
     "solution": true,
     "task": false
    }
   },
   "outputs": [],
   "source": [
    "youngest_female = None\n",
    "\n",
    "### BEGIN SOLUTION\n",
    "youngest_female = (titanic_df.groupby(by='sex')\n",
    "                             .get_group('female')\n",
    "                             .sort_values(by='age')\n",
    "                             .iloc[0, 2]\n",
    "                  )\n",
    "\n",
    "### END SOLUTION\n"
   ]
  },
  {
   "cell_type": "code",
   "execution_count": 57,
   "metadata": {
    "nbgrader": {
     "grade": true,
     "grade_id": "cell-b1c0624507f4f69e",
     "locked": true,
     "points": 1,
     "schema_version": 3,
     "solution": false,
     "task": false
    }
   },
   "outputs": [
    {
     "data": {
      "text/plain": [
       "'success'"
      ]
     },
     "execution_count": 57,
     "metadata": {},
     "output_type": "execute_result"
    }
   ],
   "source": [
    "t.test_3k(youngest_female)"
   ]
  },
  {
   "cell_type": "markdown",
   "metadata": {
    "nbgrader": {
     "grade": false,
     "grade_id": "cell-14ee8e84338cab00",
     "locked": true,
     "schema_version": 3,
     "solution": false,
     "task": false
    }
   },
   "source": [
    "## 4. Titanic Analysis  \n",
    "\n",
    "\n",
    "In exercise 3, we explored the dataset somewhat arbitrarily, trying to gain some insights into the data. In this exercise, we will carry out a number of steps to answer a single analysis question. \n",
    "\n",
    "> \"How does a passenger's class, sex and age affect their chance of survival?\"\n",
    "\n",
    "Use chaining to answer each question.\n",
    "\n",
    "One thing you may notice in the data is that there are missing values in the survived column that present themselves as`NaN`. This can be a potential problem as it could cause the analyst to draw inaccurate conclusions about the data. For this question, we will disregard this issue to concentrate on the skills we have learned up until now. We will, however, be returning to this topic further into the course and discuss how missing data effects analysis and different methods of handling them."
   ]
  },
  {
   "cell_type": "markdown",
   "metadata": {
    "nbgrader": {
     "grade": false,
     "grade_id": "cell-74b633f03af6e859",
     "locked": true,
     "schema_version": 3,
     "solution": false,
     "task": false
    }
   },
   "source": [
    "**Question 4(a)**  <br> {points: 1}  \n",
    "\n",
    "Beginning the analysis with passenger class, find the mean survival rate of the 3 classes and plot this as a bar chart. Name the object `group_class`. Make sure that you give the plot a descriptive title and y-axis label.\n",
    "You will need to groupby `pclass` and inorder to find the `mean` survival rate. Don't forget to `reset_index()` when plotting."
   ]
  },
  {
   "cell_type": "code",
   "execution_count": 61,
   "metadata": {
    "nbgrader": {
     "grade": false,
     "grade_id": "cell-0390e77765430881",
     "locked": false,
     "schema_version": 3,
     "solution": true,
     "task": false
    },
    "scrolled": true
   },
   "outputs": [],
   "source": [
    "### BEGIN SOLUTION\n",
    "# generate the plotting data\n",
    "group_class_df = pd.DataFrame(titanic_df.groupby('pclass')['survived'].mean())\n",
    "group_class_df = group_class_df.reset_index()\n",
    "\n",
    "# plot the data\n",
    "group_class = alt.Chart(\n",
    "    group_class_df, width=500, height=300).mark_bar().encode(\n",
    "        y=alt.Y('survived:Q', title=\"Survival Rate\"),\n",
    "        x=alt.X('pclass:N'),\n",
    "    ).properties(title=\"Passenger Class Survival Rate\")\n",
    "### END SOLUTION"
   ]
  },
  {
   "cell_type": "code",
   "execution_count": 62,
   "metadata": {
    "nbgrader": {
     "grade": true,
     "grade_id": "cell-c73402b6c72374a4",
     "locked": true,
     "points": 1,
     "schema_version": 3,
     "solution": false,
     "task": false
    }
   },
   "outputs": [
    {
     "data": {
      "text/plain": [
       "'success'"
      ]
     },
     "execution_count": 62,
     "metadata": {},
     "output_type": "execute_result"
    }
   ],
   "source": [
    "t.test_4a(group_class)"
   ]
  },
  {
   "cell_type": "markdown",
   "metadata": {
    "nbgrader": {
     "grade": false,
     "grade_id": "cell-ed3caed6578bac07",
     "locked": true,
     "schema_version": 3,
     "solution": false,
     "task": false
    }
   },
   "source": [
    "**Question 4(b)**  <br> {points: 1}  \n",
    "\n",
    "To answer the question, assign the letter associated with the correct answer to a variable in the code cell below:   \n",
    "Which statement below is accurate?\n",
    "\n",
    "A. Passengers from 1st class had the highest survival rate\n",
    "\n",
    "B. Passengers from 2nd class had the highest survival rate \n",
    "\n",
    "C. Passengers from 3rd class had the highest survival rate\n",
    "\n",
    "\n",
    "*Answer in the cell below using the uppercase letter associated with your answer. Place your answer between `\"\"`, assign the correct answer to an object called `answer4_b`.*"
   ]
  },
  {
   "cell_type": "code",
   "execution_count": 63,
   "metadata": {
    "nbgrader": {
     "grade": false,
     "grade_id": "cell-76b9ead78ecfb0e0",
     "locked": false,
     "schema_version": 3,
     "solution": true,
     "task": false
    }
   },
   "outputs": [],
   "source": [
    "answer4_b = None\n",
    "\n",
    "### BEGIN SOLUTION\n",
    "answer4_b = \"A\"\n",
    "### END SOLUTION"
   ]
  },
  {
   "cell_type": "code",
   "execution_count": 64,
   "metadata": {
    "nbgrader": {
     "grade": true,
     "grade_id": "cell-7dbcb42fb864375a",
     "locked": true,
     "points": 1,
     "schema_version": 3,
     "solution": false,
     "task": false
    }
   },
   "outputs": [
    {
     "data": {
      "text/plain": [
       "'success'"
      ]
     },
     "execution_count": 64,
     "metadata": {},
     "output_type": "execute_result"
    }
   ],
   "source": [
    "t.test_4b(answer4_b)"
   ]
  },
  {
   "cell_type": "markdown",
   "metadata": {
    "nbgrader": {
     "grade": false,
     "grade_id": "cell-266c078e28c45ee3",
     "locked": true,
     "schema_version": 3,
     "solution": false,
     "task": false
    }
   },
   "source": [
    "**Question 4(c)**  <br> {points: 1}  \n",
    "\n",
    "Plot the mean survival rates for each sex using a bar chart. Name the object `group_sex`. Make sure that you give the plot a descriptive title and y-axis label. You will need to groupby `pclass` and inorder to find the `mean` survival rate. Don't forget to `reset_index()` when plotting.    "
   ]
  },
  {
   "cell_type": "code",
   "execution_count": 69,
   "metadata": {
    "nbgrader": {
     "grade": false,
     "grade_id": "cell-3ec8f18303bb6b2f",
     "locked": false,
     "schema_version": 3,
     "solution": true,
     "task": false
    }
   },
   "outputs": [],
   "source": [
    "### BEGIN SOLUTION\n",
    "# generate the plotting data\n",
    "group_sex_df = pd.DataFrame(titanic_df.groupby('sex')['survived'].mean())\n",
    "group_sex_df = group_sex_df.reset_index()\n",
    "# plot the data\n",
    "group_sex = alt.Chart(\n",
    "    group_sex_df, width=500, height=300).mark_bar().encode(\n",
    "        y=alt.Y('survived:Q', title=\"Survival Rate\"),\n",
    "        x=alt.X('sex'),\n",
    "    ).properties(title=\"male and female passenger survival rate\")\n",
    "\n",
    "### END SOLUTION"
   ]
  },
  {
   "cell_type": "code",
   "execution_count": 70,
   "metadata": {
    "nbgrader": {
     "grade": true,
     "grade_id": "cell-f13869dd0bead0a2",
     "locked": true,
     "points": 1,
     "schema_version": 3,
     "solution": false,
     "task": false
    }
   },
   "outputs": [
    {
     "data": {
      "text/plain": [
       "'success'"
      ]
     },
     "execution_count": 70,
     "metadata": {},
     "output_type": "execute_result"
    }
   ],
   "source": [
    "t.test_4c(group_sex)"
   ]
  },
  {
   "cell_type": "markdown",
   "metadata": {
    "nbgrader": {
     "grade": false,
     "grade_id": "cell-96b44591f1bd209c",
     "locked": true,
     "schema_version": 3,
     "solution": false,
     "task": false
    }
   },
   "source": [
    "**Question 4(d)**  <br> {points: 1}  \n",
    "\n",
    "To answer the question, assign the letter associated with the correct answer to a variable in the code cell below:   \n",
    "Which statement below is accurate?\n",
    "\n",
    "A. Male passengers had the highest survival rate\n",
    "\n",
    "B. Female passengers had the highest survival rate \n",
    "\n",
    "\n",
    "*Answer in the cell below using the uppercase letter associated with your answer. Place your answer between `\"\"`, assign the correct answer to an object called `answer4_d`.*"
   ]
  },
  {
   "cell_type": "code",
   "execution_count": 71,
   "metadata": {
    "nbgrader": {
     "grade": false,
     "grade_id": "cell-9149cc7bdba9811f",
     "locked": false,
     "schema_version": 3,
     "solution": true,
     "task": false
    }
   },
   "outputs": [],
   "source": [
    "answer4_d = None\n",
    "\n",
    "### BEGIN SOLUTION\n",
    "answer4_d = \"A\"\n",
    "### END SOLUTION"
   ]
  },
  {
   "cell_type": "code",
   "execution_count": 72,
   "metadata": {
    "nbgrader": {
     "grade": true,
     "grade_id": "cell-1b1831223a4df316",
     "locked": true,
     "points": 1,
     "schema_version": 3,
     "solution": false,
     "task": false
    }
   },
   "outputs": [
    {
     "data": {
      "text/plain": [
       "'success'"
      ]
     },
     "execution_count": 72,
     "metadata": {},
     "output_type": "execute_result"
    }
   ],
   "source": [
    "t.test_4d(answer4_d)"
   ]
  },
  {
   "cell_type": "markdown",
   "metadata": {},
   "source": [
    "_Note to mike: Do you have a suggested better way of doing Question 4(e)?_ "
   ]
  },
  {
   "cell_type": "markdown",
   "metadata": {
    "nbgrader": {
     "grade": false,
     "grade_id": "cell-bbbd00f2147f109a",
     "locked": true,
     "schema_version": 3,
     "solution": false,
     "task": false
    }
   },
   "source": [
    "**Question 4(e)**  <br> {points: 1}  \n",
    "\n",
    "\n",
    "Before we can do anything let's categorize the ages into 4 age classes into a column named `age_group`. Use the following conditions for each age class\n",
    "- younger than 20 column values → \"youth\"   \n",
    "- 20-39 column values → \"adult\"\n",
    "- 40-59 column values → \"older adult\"   \n",
    "- Age 60 and older column values → \"senior\" \n",
    "\n",
    "Find the mean survival rate of each `age_group` and plot this as a bar chart. Name the object `age_plot`."
   ]
  },
  {
   "cell_type": "code",
   "execution_count": 75,
   "metadata": {
    "nbgrader": {
     "grade": false,
     "grade_id": "cell-440f649f81785f5c",
     "locked": false,
     "schema_version": 3,
     "solution": true,
     "task": false
    },
    "scrolled": true
   },
   "outputs": [],
   "source": [
    "### BEGIN SOLUTION\n",
    "# generate plotting data\n",
    "titanic_df.loc[titanic_df['age'] < 20, 'age_group'] = \"youth\"\n",
    "titanic_df.loc[(titanic_df['age'] < 40) & (titanic_df['age'] >= 20),\n",
    "               'age_group'] = \"adult\"\n",
    "titanic_df.loc[(titanic_df['age'] < 60) & (titanic_df['age'] >= 40),\n",
    "               'age_group'] = \"older adult \"\n",
    "titanic_df.loc[titanic_df['age'] >= 60, 'age_group'] = \"senior\"\n",
    "age_plot_df = titanic_df.groupby('age_group')['survived'].mean()\n",
    "age_plot_df = age_plot_df.reset_index()\n",
    "\n",
    "# plot data\n",
    "age_plot = alt.Chart(\n",
    "    age_plot_df, width=500, height=300).mark_bar().encode(\n",
    "        y=alt.Y('survived:Q', title=\"Survival Rate\"),\n",
    "        x=alt.X('age_group'),\n",
    "    ).properties(title=\"Age group survival rate\")\n",
    "### END SOLUTION"
   ]
  },
  {
   "cell_type": "code",
   "execution_count": 76,
   "metadata": {
    "nbgrader": {
     "grade": true,
     "grade_id": "cell-829cd55e54c6514b",
     "locked": true,
     "points": 1,
     "schema_version": 3,
     "solution": false,
     "task": false
    }
   },
   "outputs": [
    {
     "data": {
      "text/plain": [
       "'success'"
      ]
     },
     "execution_count": 76,
     "metadata": {},
     "output_type": "execute_result"
    }
   ],
   "source": [
    "t.test_4e(age_plot)"
   ]
  },
  {
   "cell_type": "markdown",
   "metadata": {
    "nbgrader": {
     "grade": false,
     "grade_id": "cell-9c29ec580455b5c3",
     "locked": true,
     "schema_version": 3,
     "solution": false,
     "task": false
    }
   },
   "source": [
    "**Question 4(f)**  <br> {points: 1}  \n",
    "\n",
    "To answer the question, assign the letter associated with the correct answer to a variable in the code cell below:   \n",
    "Which statement below is accurate?\n",
    "\n",
    "A. youth passengers had the highest survival rate\n",
    "\n",
    "B. adult passengers had the highest survival rate \n",
    "\n",
    "C. older adult passengers had the highest survival rate \n",
    "\n",
    "D. senior passengers had the highest survival rate \n",
    "\n",
    "\n",
    "*Answer in the cell below using the uppercase letter associated with your answer. Place your answer between `\"\"`, assign the correct answer to an object called `answer4_f`.*\n"
   ]
  },
  {
   "cell_type": "code",
   "execution_count": 77,
   "metadata": {
    "nbgrader": {
     "grade": false,
     "grade_id": "cell-490bc519ab3b379d",
     "locked": false,
     "schema_version": 3,
     "solution": true,
     "task": false
    }
   },
   "outputs": [],
   "source": [
    "answer4_f = None\n",
    "\n",
    "### BEGIN SOLUTION\n",
    "answer4_f = \"A\"\n",
    "### END SOLUTION"
   ]
  },
  {
   "cell_type": "code",
   "execution_count": 78,
   "metadata": {
    "nbgrader": {
     "grade": true,
     "grade_id": "cell-c6b572c05ef2cec7",
     "locked": true,
     "points": 1,
     "schema_version": 3,
     "solution": false,
     "task": false
    }
   },
   "outputs": [
    {
     "data": {
      "text/plain": [
       "'Success'"
      ]
     },
     "execution_count": 78,
     "metadata": {},
     "output_type": "execute_result"
    }
   ],
   "source": [
    "assert 'answer4_f' in locals(), \"Your answer should be named 'answer4_f'\"\n",
    "\n",
    "# Note that this test has been hidden intentionally.\n",
    "# It will provide no feedback as to the correctness of your answers.\n",
    "# Thus, it is up to you to decide if your answer is sufficiently correct.\n",
    "### BEGIN HIDDEN TESTS\n",
    "def hidden_3(answer):\n",
    "    assert not answer is None, \"Your answer does not exist. Have you passed in the correct variable?\"\n",
    "    assert sha1((answer.lower() + \"W\").encode('utf8')).hexdigest(\n",
    "    ) == \"1953f1dae96593912b29962acc336ed1f8bb6600\", \"Answer is incorrect\"\n",
    "    return (\"Success\")\n",
    "\n",
    "hidden_3(answer4_f)\n",
    "### END HIDDEN TESTS"
   ]
  },
  {
   "cell_type": "markdown",
   "metadata": {
    "nbgrader": {
     "grade": false,
     "grade_id": "cell-2093eb4d7955d6e3",
     "locked": true,
     "schema_version": 3,
     "solution": false,
     "task": false
    }
   },
   "source": [
    "**Question 4(g)**  <br> {points: 1}  \n",
    "\n",
    "Let's go one step further now and do something a little new. Make a groupby object on 2 columns. Use columns `pclass` and `sex`. This is will give 6 separate groups: \n",
    "- Female and 1st class\n",
    "- Female and 2nd class\n",
    "- Female and 3rd class\n",
    "- Male and 1st class\n",
    "- Male and 2nd class\n",
    "- Male and 3rd class\n",
    "\n",
    "Next, find the mean value of the `survived` rate using `.loc[]` and sort them in decreasing survival rate. "
   ]
  },
  {
   "cell_type": "code",
   "execution_count": 79,
   "metadata": {
    "nbgrader": {
     "grade": false,
     "grade_id": "cell-839b6becf2c070f7",
     "locked": false,
     "schema_version": 3,
     "solution": true,
     "task": false
    }
   },
   "outputs": [],
   "source": [
    "group_class_age= None\n",
    "\n",
    "### BEGIN SOLUTION\n",
    "group_class_age = (titanic_df.groupby(\n",
    "    ['pclass', 'sex']).mean().loc[:, 'survived'].sort_values(ascending=False))\n",
    "### END SOLUTION"
   ]
  },
  {
   "cell_type": "code",
   "execution_count": 80,
   "metadata": {
    "nbgrader": {
     "grade": true,
     "grade_id": "cell-e72552bb0a719e28",
     "locked": true,
     "points": 1,
     "schema_version": 3,
     "solution": false,
     "task": false
    }
   },
   "outputs": [
    {
     "data": {
      "text/plain": [
       "'success'"
      ]
     },
     "execution_count": 80,
     "metadata": {},
     "output_type": "execute_result"
    }
   ],
   "source": [
    "t.test_4g(group_class_age)"
   ]
  },
  {
   "cell_type": "markdown",
   "metadata": {
    "nbgrader": {
     "grade": false,
     "grade_id": "cell-529df2f25c1ea62d",
     "locked": true,
     "schema_version": 3,
     "solution": false,
     "task": false
    }
   },
   "source": [
    "**Question 4(h)**  <br> {points: 1}  \n",
    "Now that you know how to group on multiple columns, We are going to try it on all 3 of the columns; `pclass`, `sex` and `age` . \n",
    "\n",
    "What is the maximum number of groups possible if we group by all 3 columns? \n",
    "\n",
    "\n",
    "\n",
    "\n",
    "\n",
    "*Answer in the cell below and assign the correct answer to an object called `answer4_h`*\n"
   ]
  },
  {
   "cell_type": "code",
   "execution_count": 81,
   "metadata": {
    "nbgrader": {
     "grade": false,
     "grade_id": "cell-f75154cca3c9749a",
     "locked": false,
     "schema_version": 3,
     "solution": true,
     "task": false
    }
   },
   "outputs": [],
   "source": [
    "answer4_h = None\n",
    "\n",
    "### BEGIN SOLUTION\n",
    "answer4_h = 3 * 2 * 4\n",
    "### END SOLUTION\n"
   ]
  },
  {
   "cell_type": "code",
   "execution_count": 82,
   "metadata": {
    "nbgrader": {
     "grade": true,
     "grade_id": "cell-9ccb283f50c544eb",
     "locked": true,
     "points": 1,
     "schema_version": 3,
     "solution": false,
     "task": false
    }
   },
   "outputs": [
    {
     "data": {
      "text/plain": [
       "'success'"
      ]
     },
     "execution_count": 82,
     "metadata": {},
     "output_type": "execute_result"
    }
   ],
   "source": [
    "t.test_4h(answer4_h)"
   ]
  },
  {
   "cell_type": "markdown",
   "metadata": {
    "nbgrader": {
     "grade": false,
     "grade_id": "cell-1bbdf0ce6abd5415",
     "locked": true,
     "schema_version": 3,
     "solution": false,
     "task": false
    }
   },
   "source": [
    "**Question 4(i)**  <br> {points: 1}  \n",
    "\n",
    "\n",
    "Groupby all three columns and find the mean value of the `survived` rate using `.loc[]`. Sort them in decreasing survival rate,  similarly to what you did in question 4(g)"
   ]
  },
  {
   "cell_type": "code",
   "execution_count": 83,
   "metadata": {
    "nbgrader": {
     "grade": false,
     "grade_id": "cell-f2f336f9cc068465",
     "locked": false,
     "schema_version": 3,
     "solution": true,
     "task": false
    }
   },
   "outputs": [],
   "source": [
    "### BEGIN SOLUTION\n",
    "titanic_df\n",
    "group_class_sex_age = (titanic_df.groupby(['pclass', 'sex', 'age'])\n",
    "                             .mean()\n",
    "                             .loc[:,'survived']\n",
    "                             .sort_values(ascending=False)\n",
    "                  )\n",
    "### END SOLUTION"
   ]
  },
  {
   "cell_type": "code",
   "execution_count": 84,
   "metadata": {
    "nbgrader": {
     "grade": true,
     "grade_id": "cell-f60510077774b6c3",
     "locked": true,
     "points": 1,
     "schema_version": 3,
     "solution": false,
     "task": false
    }
   },
   "outputs": [
    {
     "data": {
      "text/plain": [
       "'success'"
      ]
     },
     "execution_count": 84,
     "metadata": {},
     "output_type": "execute_result"
    }
   ],
   "source": [
    "t.test_4i(group_class_sex_age)"
   ]
  },
  {
   "cell_type": "markdown",
   "metadata": {
    "nbgrader": {
     "grade": false,
     "grade_id": "cell-00900bb9b403e44b",
     "locked": true,
     "schema_version": 3,
     "solution": false,
     "task": false
    }
   },
   "source": [
    "**Question 4(j)**  <br> {points: 1}  \n",
    "\n",
    "Which of the 24 groups had a 100% rate of survival? Answer by creating an object with the class, then sex, then age group of the highest survival rate group. For example, if it were 2nd class adult males, your answer would be `[2, 'male', 'adult']`\n"
   ]
  },
  {
   "cell_type": "code",
   "execution_count": 85,
   "metadata": {
    "nbgrader": {
     "grade": false,
     "grade_id": "cell-87140b36d2ef7f96",
     "locked": false,
     "schema_version": 3,
     "solution": true,
     "task": false
    }
   },
   "outputs": [],
   "source": [
    "answer4_j = [2, 'male', 'adult']\n",
    "\n",
    "### BEGIN SOLUTION\n",
    "answer4_j = [1, 'female', 'senior']\n",
    "### END SOLUTION"
   ]
  },
  {
   "cell_type": "code",
   "execution_count": 86,
   "metadata": {
    "nbgrader": {
     "grade": true,
     "grade_id": "cell-01fdec6b2e784aa3",
     "locked": true,
     "points": 1,
     "schema_version": 3,
     "solution": false,
     "task": false
    }
   },
   "outputs": [
    {
     "name": "stdout",
     "output_type": "stream",
     "text": [
      "Success\n"
     ]
    }
   ],
   "source": [
    "t.test_4j(answer4_j)"
   ]
  },
  {
   "cell_type": "markdown",
   "metadata": {},
   "source": [
    "Before submitting your assignment please do the following:\n",
    "\n",
    "- Read through your solutions\n",
    "- **Restart your kernel and clear output and rerun your cells from top to bottom** \n",
    "- Makes sure that none of your code is broken \n",
    "- Verify that the tests from the questions you answered have obtained the output \"Success\"\n",
    "\n",
    "This is a simple way to make sure that you are submitting all the variables needed to mark the assignment. This method should help avoid losing marks due to changes in your environment.  "
   ]
  },
  {
   "cell_type": "markdown",
   "metadata": {
    "nbgrader": {
     "grade": false,
     "grade_id": "cell-99fe2bf2c012cb14",
     "locked": true,
     "schema_version": 3,
     "solution": false,
     "task": false
    }
   },
   "source": [
    "## Attributions\n",
    "- City of Vancouver Open Data portal - [Street Trees Dataset](https://opendata.vancouver.ca/explore/dataset/street-trees/information/?disjunctive.species_name&disjunctive.common_name&disjunctive.height_range_id)\n",
    "- MDS DSCI 523 - Data Wrangling course - [MDS's GitHub website](hhttps://ubc-mds.github.io/) \n"
   ]
  },
  {
   "cell_type": "markdown",
   "metadata": {
    "nbgrader": {
     "grade": false,
     "grade_id": "cell-fe43102375740d5f",
     "locked": true,
     "schema_version": 3,
     "solution": false,
     "task": false
    }
   },
   "source": [
    "## Module Debriefing\n",
    "\n",
    "If this video is not showing up below, click on the cell and click the ▶ button in the toolbar above."
   ]
  },
  {
   "cell_type": "code",
   "execution_count": 1,
   "metadata": {},
   "outputs": [
    {
     "data": {
      "image/jpeg": "[encoded data removed]",
      "text/html": [
       "\n",
       "        <iframe\n",
       "            width=\"854\"\n",
       "            height=\"480\"\n",
       "            src=\"https://www.youtube.com/embed/zHK_l0YPcKA\"\n",
       "            frameborder=\"0\"\n",
       "            allowfullscreen\n",
       "        ></iframe>\n",
       "        "
      ],
      "text/plain": [
       "<IPython.lib.display.YouTubeVideo at 0x7f565031aeb0>"
      ]
     },
     "execution_count": 1,
     "metadata": {},
     "output_type": "execute_result"
    }
   ],
   "source": [
    "from IPython.display import YouTubeVideo\n",
    "YouTubeVideo('zHK_l0YPcKA', width=854, height=480)"
   ]
  },
  {
   "cell_type": "code",
   "execution_count": null,
   "metadata": {},
   "outputs": [],
   "source": []
  }
 ],
 "metadata": {
  "celltoolbar": "Create Assignment",
  "jupytext": {
   "cell_metadata_filter": "-all",
   "notebook_metadata_filter": "-all"
  },
  "kernelspec": {
   "display_name": "Python 3",
   "language": "python",
   "name": "python3"
  },
  "language_info": {
   "codemirror_mode": {
    "name": "ipython",
    "version": 3
   },
   "file_extension": ".py",
   "mimetype": "text/x-python",
   "name": "python",
   "nbconvert_exporter": "python",
   "pygments_lexer": "ipython3",
   "version": "3.8.5"
  },
  "toc": {
   "base_numbering": 1,
   "nav_menu": {},
   "number_sections": true,
   "sideBar": true,
   "skip_h1_title": false,
   "title_cell": "Table of Contents",
   "title_sidebar": "Contents",
   "toc_cell": false,
   "toc_position": {},
   "toc_section_display": true,
   "toc_window_display": false
  }
 },
 "nbformat": 4,
 "nbformat_minor": 4
}
